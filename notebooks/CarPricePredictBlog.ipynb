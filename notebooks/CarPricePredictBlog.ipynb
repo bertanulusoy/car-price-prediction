{
 "cells": [
  {
   "cell_type": "markdown",
   "metadata": {},
   "source": [
    "# Car Price Prediction"
   ]
  },
  {
   "cell_type": "markdown",
   "metadata": {},
   "source": [
    "This dataset includes used vehicles' specifications such as model, year, engine as well as their prices. We will estimate the prices of used cars with using these features. It will be Supervised Learning as the price feature is given. In addition, since our estimation is price value which is real-valued, we will have solved the Regression problem.\n",
    "\n",
    "\n",
    "In our case, we will first preprocess the fields of the dataset and then feature selection and then build a simple linear regression model with an evaluation process. Finally, we will develop our model using different algorithms.\n",
    "***"
   ]
  },
  {
   "cell_type": "markdown",
   "metadata": {},
   "source": [
    "## 1. Downloading Dataset\n",
    "First step, as you guess, is downloading the dataset. \n",
    "\n",
    "The dataset can be fetched with Kaggle CLI by using below command.\n",
    "\n",
    "##### kaggle datasets download -d CooperUnion/cardataset\n",
    "\n",
    "or you can also download the dataset from the Kaggle site with the link below:\n",
    "\n",
    "https://www.kaggle.com/CooperUnion/cardataset\n",
    "\n",
    "Let's move reading the dataset:\n",
    "***"
   ]
  },
  {
   "cell_type": "markdown",
   "metadata": {},
   "source": [
    "## 2. Reading and exploring the Data\n",
    "\n",
    "To read and analyze the dataset we need to import some libraries."
   ]
  },
  {
   "cell_type": "code",
   "execution_count": 16,
   "metadata": {
    "ExecuteTime": {
     "end_time": "2023-06-04T07:28:28.706913Z",
     "start_time": "2023-06-04T07:28:28.696528Z"
    }
   },
   "outputs": [],
   "source": [
    "import numpy as np\n",
    "import pandas\n",
    "import pandas as pd\n",
    "\n",
    "from matplotlib import pyplot as plt\n",
    "import seaborn as sns\n",
    "\n",
    "# plt.style.use('ggplot')\n",
    "sns.set()\n",
    "%matplotlib inline\n",
    "\n",
    "import warnings\n",
    "warnings.filterwarnings('ignore')"
   ]
  },
  {
   "cell_type": "markdown",
   "metadata": {},
   "source": [
    "To read csv files, common action is to use `read_csv` function of the pandas library. The `read_csv` function returns `pandas.core.frame.DataFrame` object. We need to assign it to a variable which is in this case the `df`."
   ]
  },
  {
   "cell_type": "code",
   "execution_count": 17,
   "metadata": {
    "ExecuteTime": {
     "end_time": "2023-06-04T07:28:32.047414Z",
     "start_time": "2023-06-04T07:28:31.921342Z"
    }
   },
   "outputs": [
    {
     "data": {
      "text/plain": "  Make       Model  Year             Engine Fuel Type  Engine HP  \\\n0  BMW  1 Series M  2011  premium unleaded (required)      335.0   \n1  BMW    1 Series  2011  premium unleaded (required)      300.0   \n2  BMW    1 Series  2011  premium unleaded (required)      300.0   \n3  BMW    1 Series  2011  premium unleaded (required)      230.0   \n4  BMW    1 Series  2011  premium unleaded (required)      230.0   \n\n   Engine Cylinders Transmission Type     Driven_Wheels  Number of Doors  \\\n0               6.0            MANUAL  rear wheel drive              2.0   \n1               6.0            MANUAL  rear wheel drive              2.0   \n2               6.0            MANUAL  rear wheel drive              2.0   \n3               6.0            MANUAL  rear wheel drive              2.0   \n4               6.0            MANUAL  rear wheel drive              2.0   \n\n                         Market Category Vehicle Size Vehicle Style  \\\n0  Factory Tuner,Luxury,High-Performance      Compact         Coupe   \n1                     Luxury,Performance      Compact   Convertible   \n2                Luxury,High-Performance      Compact         Coupe   \n3                     Luxury,Performance      Compact         Coupe   \n4                                 Luxury      Compact   Convertible   \n\n   highway MPG  city mpg  Popularity   MSRP  \n0           26        19        3916  46135  \n1           28        19        3916  40650  \n2           28        20        3916  36350  \n3           28        18        3916  29450  \n4           28        18        3916  34500  ",
      "text/html": "<div>\n<style scoped>\n    .dataframe tbody tr th:only-of-type {\n        vertical-align: middle;\n    }\n\n    .dataframe tbody tr th {\n        vertical-align: top;\n    }\n\n    .dataframe thead th {\n        text-align: right;\n    }\n</style>\n<table border=\"1\" class=\"dataframe\">\n  <thead>\n    <tr style=\"text-align: right;\">\n      <th></th>\n      <th>Make</th>\n      <th>Model</th>\n      <th>Year</th>\n      <th>Engine Fuel Type</th>\n      <th>Engine HP</th>\n      <th>Engine Cylinders</th>\n      <th>Transmission Type</th>\n      <th>Driven_Wheels</th>\n      <th>Number of Doors</th>\n      <th>Market Category</th>\n      <th>Vehicle Size</th>\n      <th>Vehicle Style</th>\n      <th>highway MPG</th>\n      <th>city mpg</th>\n      <th>Popularity</th>\n      <th>MSRP</th>\n    </tr>\n  </thead>\n  <tbody>\n    <tr>\n      <th>0</th>\n      <td>BMW</td>\n      <td>1 Series M</td>\n      <td>2011</td>\n      <td>premium unleaded (required)</td>\n      <td>335.0</td>\n      <td>6.0</td>\n      <td>MANUAL</td>\n      <td>rear wheel drive</td>\n      <td>2.0</td>\n      <td>Factory Tuner,Luxury,High-Performance</td>\n      <td>Compact</td>\n      <td>Coupe</td>\n      <td>26</td>\n      <td>19</td>\n      <td>3916</td>\n      <td>46135</td>\n    </tr>\n    <tr>\n      <th>1</th>\n      <td>BMW</td>\n      <td>1 Series</td>\n      <td>2011</td>\n      <td>premium unleaded (required)</td>\n      <td>300.0</td>\n      <td>6.0</td>\n      <td>MANUAL</td>\n      <td>rear wheel drive</td>\n      <td>2.0</td>\n      <td>Luxury,Performance</td>\n      <td>Compact</td>\n      <td>Convertible</td>\n      <td>28</td>\n      <td>19</td>\n      <td>3916</td>\n      <td>40650</td>\n    </tr>\n    <tr>\n      <th>2</th>\n      <td>BMW</td>\n      <td>1 Series</td>\n      <td>2011</td>\n      <td>premium unleaded (required)</td>\n      <td>300.0</td>\n      <td>6.0</td>\n      <td>MANUAL</td>\n      <td>rear wheel drive</td>\n      <td>2.0</td>\n      <td>Luxury,High-Performance</td>\n      <td>Compact</td>\n      <td>Coupe</td>\n      <td>28</td>\n      <td>20</td>\n      <td>3916</td>\n      <td>36350</td>\n    </tr>\n    <tr>\n      <th>3</th>\n      <td>BMW</td>\n      <td>1 Series</td>\n      <td>2011</td>\n      <td>premium unleaded (required)</td>\n      <td>230.0</td>\n      <td>6.0</td>\n      <td>MANUAL</td>\n      <td>rear wheel drive</td>\n      <td>2.0</td>\n      <td>Luxury,Performance</td>\n      <td>Compact</td>\n      <td>Coupe</td>\n      <td>28</td>\n      <td>18</td>\n      <td>3916</td>\n      <td>29450</td>\n    </tr>\n    <tr>\n      <th>4</th>\n      <td>BMW</td>\n      <td>1 Series</td>\n      <td>2011</td>\n      <td>premium unleaded (required)</td>\n      <td>230.0</td>\n      <td>6.0</td>\n      <td>MANUAL</td>\n      <td>rear wheel drive</td>\n      <td>2.0</td>\n      <td>Luxury</td>\n      <td>Compact</td>\n      <td>Convertible</td>\n      <td>28</td>\n      <td>18</td>\n      <td>3916</td>\n      <td>34500</td>\n    </tr>\n  </tbody>\n</table>\n</div>"
     },
     "execution_count": 17,
     "metadata": {},
     "output_type": "execute_result"
    }
   ],
   "source": [
    "missing_values = [\"n/a\", \"na\", \"--\"]\n",
    "df = pd.read_csv('../data/data.csv', na_values=missing_values)\n",
    "df.head()"
   ]
  },
  {
   "cell_type": "markdown",
   "source": [
    "Let's check the number of rows and columns in the data with **shape** function of the _DataFrame_ object."
   ],
   "metadata": {
    "collapsed": false
   }
  },
  {
   "cell_type": "code",
   "execution_count": 18,
   "outputs": [
    {
     "data": {
      "text/plain": "Make                    0\nModel                   0\nYear                    0\nEngine Fuel Type        3\nEngine HP              69\nEngine Cylinders       30\nTransmission Type       0\nDriven_Wheels           0\nNumber of Doors         6\nMarket Category      3742\nVehicle Size            0\nVehicle Style           0\nhighway MPG             0\ncity mpg                0\nPopularity              0\nMSRP                    0\ndtype: int64"
     },
     "execution_count": 18,
     "metadata": {},
     "output_type": "execute_result"
    }
   ],
   "source": [
    "df.isnull().sum()"
   ],
   "metadata": {
    "collapsed": false,
    "ExecuteTime": {
     "end_time": "2023-06-04T07:29:01.699483Z",
     "start_time": "2023-06-04T07:29:01.605771Z"
    }
   }
  },
  {
   "cell_type": "code",
   "execution_count": 6,
   "outputs": [
    {
     "data": {
      "text/plain": "(11914, 16)"
     },
     "execution_count": 6,
     "metadata": {},
     "output_type": "execute_result"
    }
   ],
   "source": [
    "df.shape"
   ],
   "metadata": {
    "collapsed": false,
    "ExecuteTime": {
     "end_time": "2023-06-03T17:35:44.249548Z",
     "start_time": "2023-06-03T17:35:44.212495Z"
    }
   }
  },
  {
   "cell_type": "markdown",
   "source": [
    "According to this result, we have **11914** rows and **16** columns of data.\n",
    "Now, let's look at the first five rows of our _DataFrame_ with `head()` function."
   ],
   "metadata": {
    "collapsed": false
   }
  },
  {
   "cell_type": "markdown",
   "source": [
    "Remember; _samples_ are in rows, _features_ are in columns. \\\n",
    "In _features_, our dependent column is **MSRP** which we want to predict, and the rest of the columns are named as predictors. \\\n",
    "If we look at the output of the DataFrame's `shape` function again, we see that we have **11914** _samples_ and **16** _features_."
   ],
   "metadata": {
    "collapsed": false
   }
  },
  {
   "cell_type": "markdown",
   "metadata": {},
   "source": [
    "Check the type of data stored in each column"
   ]
  },
  {
   "cell_type": "code",
   "execution_count": 7,
   "metadata": {
    "ExecuteTime": {
     "end_time": "2023-06-03T17:35:47.703583Z",
     "start_time": "2023-06-03T17:35:47.645977Z"
    }
   },
   "outputs": [
    {
     "name": "stdout",
     "output_type": "stream",
     "text": [
      "<class 'pandas.core.frame.DataFrame'>\n",
      "RangeIndex: 11914 entries, 0 to 11913\n",
      "Data columns (total 16 columns):\n",
      " #   Column             Non-Null Count  Dtype  \n",
      "---  ------             --------------  -----  \n",
      " 0   Make               11914 non-null  object \n",
      " 1   Model              11914 non-null  object \n",
      " 2   Year               11914 non-null  int64  \n",
      " 3   Engine Fuel Type   11911 non-null  object \n",
      " 4   Engine HP          11845 non-null  float64\n",
      " 5   Engine Cylinders   11884 non-null  float64\n",
      " 6   Transmission Type  11914 non-null  object \n",
      " 7   Driven_Wheels      11914 non-null  object \n",
      " 8   Number of Doors    11908 non-null  float64\n",
      " 9   Market Category    8172 non-null   object \n",
      " 10  Vehicle Size       11914 non-null  object \n",
      " 11  Vehicle Style      11914 non-null  object \n",
      " 12  highway MPG        11914 non-null  int64  \n",
      " 13  city mpg           11914 non-null  int64  \n",
      " 14  Popularity         11914 non-null  int64  \n",
      " 15  MSRP               11914 non-null  int64  \n",
      "dtypes: float64(3), int64(5), object(8)\n",
      "memory usage: 1.5+ MB\n"
     ]
    }
   ],
   "source": [
    "df.info()"
   ]
  },
  {
   "cell_type": "markdown",
   "source": [
    "`describe` function provides statistics of each column. These types of functions provide general information about the data."
   ],
   "metadata": {
    "collapsed": false
   }
  },
  {
   "cell_type": "code",
   "execution_count": 62,
   "outputs": [
    {
     "data": {
      "text/plain": "               Year    Engine HP  Engine Cylinders  Number of Doors  \\\ncount  11914.000000  11845.00000      11884.000000     11908.000000   \nmean    2010.384338    249.38607          5.628829         3.436093   \nstd        7.579740    109.19187          1.780559         0.881315   \nmin     1990.000000     55.00000          0.000000         2.000000   \n25%     2007.000000    170.00000          4.000000         2.000000   \n50%     2015.000000    227.00000          6.000000         4.000000   \n75%     2016.000000    300.00000          6.000000         4.000000   \nmax     2017.000000   1001.00000         16.000000         4.000000   \n\n        highway MPG      city mpg    Popularity          MSRP  \ncount  11914.000000  11914.000000  11914.000000  1.191400e+04  \nmean      26.637485     19.733255   1554.911197  4.059474e+04  \nstd        8.863001      8.987798   1441.855347  6.010910e+04  \nmin       12.000000      7.000000      2.000000  2.000000e+03  \n25%       22.000000     16.000000    549.000000  2.100000e+04  \n50%       26.000000     18.000000   1385.000000  2.999500e+04  \n75%       30.000000     22.000000   2009.000000  4.223125e+04  \nmax      354.000000    137.000000   5657.000000  2.065902e+06  ",
      "text/html": "<div>\n<style scoped>\n    .dataframe tbody tr th:only-of-type {\n        vertical-align: middle;\n    }\n\n    .dataframe tbody tr th {\n        vertical-align: top;\n    }\n\n    .dataframe thead th {\n        text-align: right;\n    }\n</style>\n<table border=\"1\" class=\"dataframe\">\n  <thead>\n    <tr style=\"text-align: right;\">\n      <th></th>\n      <th>Year</th>\n      <th>Engine HP</th>\n      <th>Engine Cylinders</th>\n      <th>Number of Doors</th>\n      <th>highway MPG</th>\n      <th>city mpg</th>\n      <th>Popularity</th>\n      <th>MSRP</th>\n    </tr>\n  </thead>\n  <tbody>\n    <tr>\n      <th>count</th>\n      <td>11914.000000</td>\n      <td>11845.00000</td>\n      <td>11884.000000</td>\n      <td>11908.000000</td>\n      <td>11914.000000</td>\n      <td>11914.000000</td>\n      <td>11914.000000</td>\n      <td>1.191400e+04</td>\n    </tr>\n    <tr>\n      <th>mean</th>\n      <td>2010.384338</td>\n      <td>249.38607</td>\n      <td>5.628829</td>\n      <td>3.436093</td>\n      <td>26.637485</td>\n      <td>19.733255</td>\n      <td>1554.911197</td>\n      <td>4.059474e+04</td>\n    </tr>\n    <tr>\n      <th>std</th>\n      <td>7.579740</td>\n      <td>109.19187</td>\n      <td>1.780559</td>\n      <td>0.881315</td>\n      <td>8.863001</td>\n      <td>8.987798</td>\n      <td>1441.855347</td>\n      <td>6.010910e+04</td>\n    </tr>\n    <tr>\n      <th>min</th>\n      <td>1990.000000</td>\n      <td>55.00000</td>\n      <td>0.000000</td>\n      <td>2.000000</td>\n      <td>12.000000</td>\n      <td>7.000000</td>\n      <td>2.000000</td>\n      <td>2.000000e+03</td>\n    </tr>\n    <tr>\n      <th>25%</th>\n      <td>2007.000000</td>\n      <td>170.00000</td>\n      <td>4.000000</td>\n      <td>2.000000</td>\n      <td>22.000000</td>\n      <td>16.000000</td>\n      <td>549.000000</td>\n      <td>2.100000e+04</td>\n    </tr>\n    <tr>\n      <th>50%</th>\n      <td>2015.000000</td>\n      <td>227.00000</td>\n      <td>6.000000</td>\n      <td>4.000000</td>\n      <td>26.000000</td>\n      <td>18.000000</td>\n      <td>1385.000000</td>\n      <td>2.999500e+04</td>\n    </tr>\n    <tr>\n      <th>75%</th>\n      <td>2016.000000</td>\n      <td>300.00000</td>\n      <td>6.000000</td>\n      <td>4.000000</td>\n      <td>30.000000</td>\n      <td>22.000000</td>\n      <td>2009.000000</td>\n      <td>4.223125e+04</td>\n    </tr>\n    <tr>\n      <th>max</th>\n      <td>2017.000000</td>\n      <td>1001.00000</td>\n      <td>16.000000</td>\n      <td>4.000000</td>\n      <td>354.000000</td>\n      <td>137.000000</td>\n      <td>5657.000000</td>\n      <td>2.065902e+06</td>\n    </tr>\n  </tbody>\n</table>\n</div>"
     },
     "execution_count": 62,
     "metadata": {},
     "output_type": "execute_result"
    }
   ],
   "source": [
    "df.describe()"
   ],
   "metadata": {
    "collapsed": false,
    "ExecuteTime": {
     "end_time": "2023-05-13T09:00:45.794841Z",
     "start_time": "2023-05-13T09:00:45.610711Z"
    }
   }
  },
  {
   "cell_type": "markdown",
   "source": [
    "## 3. Preprocessing the Data\n",
    "\n",
    "At first glance at the dataset, it is noticed that the column names and their contents are not in the correct format, especially contents that may be categorical variables such as the `Driven_Wheels` column's content.\n",
    "\n",
    "First, let's normalize the column names by _replacing all spaces with underscores and all letters with lowercase letters_."
   ],
   "metadata": {
    "collapsed": false
   }
  },
  {
   "cell_type": "code",
   "execution_count": 8,
   "outputs": [],
   "source": [
    "df.columns = df.columns.str.lower().str.replace(' ', '_')"
   ],
   "metadata": {
    "collapsed": false,
    "ExecuteTime": {
     "end_time": "2023-06-03T17:36:49.293108Z",
     "start_time": "2023-06-03T17:36:49.220853Z"
    }
   }
  },
  {
   "cell_type": "markdown",
   "source": [
    "After the change, there is now more convenient format for the column names."
   ],
   "metadata": {
    "collapsed": false
   }
  },
  {
   "cell_type": "code",
   "execution_count": 9,
   "outputs": [
    {
     "data": {
      "text/plain": "Index(['make', 'model', 'year', 'engine_fuel_type', 'engine_hp',\n       'engine_cylinders', 'transmission_type', 'driven_wheels',\n       'number_of_doors', 'market_category', 'vehicle_size', 'vehicle_style',\n       'highway_mpg', 'city_mpg', 'popularity', 'msrp'],\n      dtype='object')"
     },
     "execution_count": 9,
     "metadata": {},
     "output_type": "execute_result"
    }
   ],
   "source": [
    "df.columns"
   ],
   "metadata": {
    "collapsed": false,
    "ExecuteTime": {
     "end_time": "2023-06-03T17:36:50.496576Z",
     "start_time": "2023-06-03T17:36:50.417102Z"
    }
   }
  },
  {
   "cell_type": "markdown",
   "source": [
    "> **Note**: *The columns which are `object` type are assumed as `categorical data`. Beyond changing the form of categorical data, to increase our model's accuracy,  the categorical data needs to be preprocessed to be input to our model . We will work on this later.*\n",
    "\n",
    "\n",
    "<p> Also, to uniform the content of the columns which are object type, we implement the same form changes to them:\n",
    "\n",
    "Our rule is, again, ___replace all spaces with underscore and lowercase all letters.___\n",
    "\n",
    "</p>"
   ],
   "metadata": {
    "collapsed": false
   }
  },
  {
   "cell_type": "markdown",
   "source": [
    "**To do that**:\n",
    "\n",
    "**1-)** select only columns with string values which are `object` data types."
   ],
   "metadata": {
    "collapsed": false
   }
  },
  {
   "cell_type": "code",
   "execution_count": 10,
   "outputs": [
    {
     "name": "stdout",
     "output_type": "stream",
     "text": [
      "['make', 'model', 'engine_fuel_type', 'transmission_type', 'driven_wheels', 'market_category', 'vehicle_size', 'vehicle_style']\n"
     ]
    }
   ],
   "source": [
    "string_columns = list(df.dtypes[df.dtypes == 'object'].index)\n",
    "print(string_columns)"
   ],
   "metadata": {
    "collapsed": false,
    "ExecuteTime": {
     "end_time": "2023-06-03T17:36:54.368319Z",
     "start_time": "2023-06-03T17:36:54.274751Z"
    }
   }
  },
  {
   "cell_type": "markdown",
   "source": [
    "**2-)** make the appropriate changes to the content of the string columns according to the above rule."
   ],
   "metadata": {
    "collapsed": false
   }
  },
  {
   "cell_type": "code",
   "execution_count": 11,
   "outputs": [],
   "source": [
    "for col in string_columns:\n",
    "    df[col] = df[col].str.lower().str.replace(' ', '_')"
   ],
   "metadata": {
    "collapsed": false,
    "ExecuteTime": {
     "end_time": "2023-06-03T17:36:57.668465Z",
     "start_time": "2023-06-03T17:36:57.591514Z"
    }
   }
  },
  {
   "cell_type": "markdown",
   "source": [
    "With these changes, you will see that we will handle the categorical variables easily."
   ],
   "metadata": {
    "collapsed": false
   }
  },
  {
   "cell_type": "markdown",
   "source": [
    "Let's have a look at the first five rows again."
   ],
   "metadata": {
    "collapsed": false
   }
  },
  {
   "cell_type": "code",
   "execution_count": 12,
   "outputs": [
    {
     "data": {
      "text/plain": "  make       model  year             engine_fuel_type  engine_hp  \\\n0  bmw  1_series_m  2011  premium_unleaded_(required)      335.0   \n1  bmw    1_series  2011  premium_unleaded_(required)      300.0   \n2  bmw    1_series  2011  premium_unleaded_(required)      300.0   \n3  bmw    1_series  2011  premium_unleaded_(required)      230.0   \n4  bmw    1_series  2011  premium_unleaded_(required)      230.0   \n\n   engine_cylinders transmission_type     driven_wheels  number_of_doors  \\\n0               6.0            manual  rear_wheel_drive              2.0   \n1               6.0            manual  rear_wheel_drive              2.0   \n2               6.0            manual  rear_wheel_drive              2.0   \n3               6.0            manual  rear_wheel_drive              2.0   \n4               6.0            manual  rear_wheel_drive              2.0   \n\n                         market_category vehicle_size vehicle_style  \\\n0  factory_tuner,luxury,high-performance      compact         coupe   \n1                     luxury,performance      compact   convertible   \n2                luxury,high-performance      compact         coupe   \n3                     luxury,performance      compact         coupe   \n4                                 luxury      compact   convertible   \n\n   highway_mpg  city_mpg  popularity   msrp  \n0           26        19        3916  46135  \n1           28        19        3916  40650  \n2           28        20        3916  36350  \n3           28        18        3916  29450  \n4           28        18        3916  34500  ",
      "text/html": "<div>\n<style scoped>\n    .dataframe tbody tr th:only-of-type {\n        vertical-align: middle;\n    }\n\n    .dataframe tbody tr th {\n        vertical-align: top;\n    }\n\n    .dataframe thead th {\n        text-align: right;\n    }\n</style>\n<table border=\"1\" class=\"dataframe\">\n  <thead>\n    <tr style=\"text-align: right;\">\n      <th></th>\n      <th>make</th>\n      <th>model</th>\n      <th>year</th>\n      <th>engine_fuel_type</th>\n      <th>engine_hp</th>\n      <th>engine_cylinders</th>\n      <th>transmission_type</th>\n      <th>driven_wheels</th>\n      <th>number_of_doors</th>\n      <th>market_category</th>\n      <th>vehicle_size</th>\n      <th>vehicle_style</th>\n      <th>highway_mpg</th>\n      <th>city_mpg</th>\n      <th>popularity</th>\n      <th>msrp</th>\n    </tr>\n  </thead>\n  <tbody>\n    <tr>\n      <th>0</th>\n      <td>bmw</td>\n      <td>1_series_m</td>\n      <td>2011</td>\n      <td>premium_unleaded_(required)</td>\n      <td>335.0</td>\n      <td>6.0</td>\n      <td>manual</td>\n      <td>rear_wheel_drive</td>\n      <td>2.0</td>\n      <td>factory_tuner,luxury,high-performance</td>\n      <td>compact</td>\n      <td>coupe</td>\n      <td>26</td>\n      <td>19</td>\n      <td>3916</td>\n      <td>46135</td>\n    </tr>\n    <tr>\n      <th>1</th>\n      <td>bmw</td>\n      <td>1_series</td>\n      <td>2011</td>\n      <td>premium_unleaded_(required)</td>\n      <td>300.0</td>\n      <td>6.0</td>\n      <td>manual</td>\n      <td>rear_wheel_drive</td>\n      <td>2.0</td>\n      <td>luxury,performance</td>\n      <td>compact</td>\n      <td>convertible</td>\n      <td>28</td>\n      <td>19</td>\n      <td>3916</td>\n      <td>40650</td>\n    </tr>\n    <tr>\n      <th>2</th>\n      <td>bmw</td>\n      <td>1_series</td>\n      <td>2011</td>\n      <td>premium_unleaded_(required)</td>\n      <td>300.0</td>\n      <td>6.0</td>\n      <td>manual</td>\n      <td>rear_wheel_drive</td>\n      <td>2.0</td>\n      <td>luxury,high-performance</td>\n      <td>compact</td>\n      <td>coupe</td>\n      <td>28</td>\n      <td>20</td>\n      <td>3916</td>\n      <td>36350</td>\n    </tr>\n    <tr>\n      <th>3</th>\n      <td>bmw</td>\n      <td>1_series</td>\n      <td>2011</td>\n      <td>premium_unleaded_(required)</td>\n      <td>230.0</td>\n      <td>6.0</td>\n      <td>manual</td>\n      <td>rear_wheel_drive</td>\n      <td>2.0</td>\n      <td>luxury,performance</td>\n      <td>compact</td>\n      <td>coupe</td>\n      <td>28</td>\n      <td>18</td>\n      <td>3916</td>\n      <td>29450</td>\n    </tr>\n    <tr>\n      <th>4</th>\n      <td>bmw</td>\n      <td>1_series</td>\n      <td>2011</td>\n      <td>premium_unleaded_(required)</td>\n      <td>230.0</td>\n      <td>6.0</td>\n      <td>manual</td>\n      <td>rear_wheel_drive</td>\n      <td>2.0</td>\n      <td>luxury</td>\n      <td>compact</td>\n      <td>convertible</td>\n      <td>28</td>\n      <td>18</td>\n      <td>3916</td>\n      <td>34500</td>\n    </tr>\n  </tbody>\n</table>\n</div>"
     },
     "execution_count": 12,
     "metadata": {},
     "output_type": "execute_result"
    }
   ],
   "source": [
    "df.head()"
   ],
   "metadata": {
    "collapsed": false,
    "ExecuteTime": {
     "end_time": "2023-06-03T17:36:59.760363Z",
     "start_time": "2023-06-03T17:36:59.696983Z"
    }
   }
  },
  {
   "cell_type": "markdown",
   "source": [
    "## 4. Quick look to categorical variables\n",
    "What categorical values the `Make` attribute has? Let's look at the **value_counts** function to find categories and their counts."
   ],
   "metadata": {
    "collapsed": false
   }
  },
  {
   "cell_type": "code",
   "execution_count": 13,
   "outputs": [
    {
     "data": {
      "text/plain": "chevrolet        1123\nford              881\nvolkswagen        809\ntoyota            746\ndodge             626\nnissan            558\ngmc               515\nhonda             449\nmazda             423\ncadillac          397\nmercedes-benz     353\nsuzuki            351\nbmw               334\ninfiniti          330\naudi              328\nhyundai           303\nvolvo             281\nsubaru            256\nacura             252\nkia               231\nmitsubishi        213\nlexus             202\nbuick             196\nchrysler          187\npontiac           186\nlincoln           164\noldsmobile        150\nland_rover        143\nporsche           136\nsaab              111\naston_martin       93\nplymouth           82\nbentley            74\nferrari            69\nfiat               62\nscion              60\nmaserati           58\nlamborghini        52\nrolls-royce        31\nlotus              29\ntesla              18\nhummer             17\nmaybach            16\nalfa_romeo          5\nmclaren             5\nspyker              3\ngenesis             3\nbugatti             3\nName: make, dtype: int64"
     },
     "execution_count": 13,
     "metadata": {},
     "output_type": "execute_result"
    }
   ],
   "source": [
    "df.make.value_counts()"
   ],
   "metadata": {
    "collapsed": false,
    "ExecuteTime": {
     "end_time": "2023-06-03T17:37:03.478884Z",
     "start_time": "2023-06-03T17:37:03.404424Z"
    }
   }
  },
  {
   "cell_type": "markdown",
   "source": [
    "and another column, `Transmission Type`."
   ],
   "metadata": {
    "collapsed": false
   }
  },
  {
   "cell_type": "code",
   "execution_count": 14,
   "outputs": [
    {
     "data": {
      "text/plain": "automatic           8266\nmanual              2935\nautomated_manual     626\ndirect_drive          68\nunknown               19\nName: transmission_type, dtype: int64"
     },
     "execution_count": 14,
     "metadata": {},
     "output_type": "execute_result"
    }
   ],
   "source": [
    "df.transmission_type.value_counts()"
   ],
   "metadata": {
    "collapsed": false,
    "ExecuteTime": {
     "end_time": "2023-06-03T17:37:04.987394Z",
     "start_time": "2023-06-03T17:37:04.913468Z"
    }
   }
  },
  {
   "cell_type": "markdown",
   "source": [
    "Have you seen \"unknown\" type which its count is 19, but when I sum null values..."
   ],
   "metadata": {
    "collapsed": false
   }
  },
  {
   "cell_type": "code",
   "execution_count": 15,
   "outputs": [
    {
     "data": {
      "text/plain": "0"
     },
     "execution_count": 15,
     "metadata": {},
     "output_type": "execute_result"
    }
   ],
   "source": [
    "df.transmission_type.isna().sum()"
   ],
   "metadata": {
    "collapsed": false,
    "ExecuteTime": {
     "end_time": "2023-06-03T17:37:07.240626Z",
     "start_time": "2023-06-03T17:37:07.163925Z"
    }
   }
  },
  {
   "cell_type": "markdown",
   "source": [
    "...its count is 0.  \"unknown\" typed records are also missing values."
   ],
   "metadata": {
    "collapsed": false
   }
  },
  {
   "cell_type": "markdown",
   "source": [
    "You can continue to check `object` type columns like above. This is important to determine categorical attributes. We will deal with them later."
   ],
   "metadata": {
    "collapsed": false
   }
  },
  {
   "cell_type": "markdown",
   "metadata": {},
   "source": [
    "## 5. Target Variable Analysis"
   ]
  },
  {
   "cell_type": "markdown",
   "metadata": {},
   "source": [
    "One of the best ways to describe a variable is to report the values that appear in the dataset and how many times each value appears. This is called `distribution` of the variable.\n",
    "\n",
    "The most common way to represent the distribution is plotting by using `histogram` which is a graph that shows the `frequency` of each value.\n",
    "\n",
    "Let's plot the **MSRP**(*Manufacture's Suggested Retail Price*) feature which is our target variable, **y**, the value which we want to predict."
   ]
  },
  {
   "cell_type": "code",
   "execution_count": 71,
   "metadata": {
    "ExecuteTime": {
     "end_time": "2023-05-13T09:00:58.967936Z",
     "start_time": "2023-05-13T09:00:58.637866Z"
    }
   },
   "outputs": [
    {
     "data": {
      "text/plain": "<AxesSubplot: xlabel='msrp', ylabel='Count'>"
     },
     "execution_count": 71,
     "metadata": {},
     "output_type": "execute_result"
    },
    {
     "data": {
      "text/plain": "<Figure size 640x480 with 1 Axes>",
      "image/png": "[encoded data removed]"
     },
     "metadata": {},
     "output_type": "display_data"
    }
   ],
   "source": [
    "sns.histplot(df.msrp, bins=50)"
   ]
  },
  {
   "cell_type": "markdown",
   "metadata": {},
   "source": [
    "Notice that the distribution of prices is asymmetric; it has very long tail that extends farther to the left than to the right. That means, there are many cars with low prices on the left side of the graph.\n",
    "\n",
    "Let's have a closer look by zooming left side of the graph by looking at values below $100,000"
   ]
  },
  {
   "cell_type": "code",
   "execution_count": 72,
   "metadata": {
    "ExecuteTime": {
     "end_time": "2023-05-13T09:00:59.970488Z",
     "start_time": "2023-05-13T09:00:59.566505Z"
    }
   },
   "outputs": [
    {
     "data": {
      "text/plain": "<AxesSubplot: xlabel='msrp', ylabel='Count'>"
     },
     "execution_count": 72,
     "metadata": {},
     "output_type": "execute_result"
    },
    {
     "data": {
      "text/plain": "<Figure size 640x480 with 1 Axes>",
      "image/png": "[encoded data removed]"
     },
     "metadata": {},
     "output_type": "display_data"
    }
   ],
   "source": [
    "sns.histplot(df.msrp[df.msrp < 100000])"
   ]
  },
  {
   "cell_type": "markdown",
   "metadata": {},
   "source": [
    "We also notice a lot of cars that cost $1,000. Such distribution can greatly confuse the model, and may make a bit harder for some Machine Learning algorithms to detect patterns.\n",
    "\n",
    "One way to solve this problem is **log transformation**. If we apply the log function to the prices, it removes the undesired effect."
   ]
  },
  {
   "cell_type": "code",
   "execution_count": 73,
   "metadata": {
    "ExecuteTime": {
     "end_time": "2023-05-13T09:01:00.669904Z",
     "start_time": "2023-05-13T09:01:00.600611Z"
    }
   },
   "outputs": [],
   "source": [
    "log_price = np.log1p(df.msrp)"
   ]
  },
  {
   "cell_type": "markdown",
   "metadata": {},
   "source": [
    "Let's have a look at the histogram of the **MSRP** feature which is our target variable after log transformation."
   ]
  },
  {
   "cell_type": "code",
   "execution_count": 74,
   "metadata": {
    "ExecuteTime": {
     "end_time": "2023-05-13T09:01:02.161978Z",
     "start_time": "2023-05-13T09:01:01.685898Z"
    }
   },
   "outputs": [
    {
     "data": {
      "text/plain": "<AxesSubplot: xlabel='msrp', ylabel='Count'>"
     },
     "execution_count": 74,
     "metadata": {},
     "output_type": "execute_result"
    },
    {
     "data": {
      "text/plain": "<Figure size 640x480 with 1 Axes>",
      "image/png": "[encoded data removed]"
     },
     "metadata": {},
     "output_type": "display_data"
    }
   ],
   "source": [
    "sns.histplot(log_price)"
   ]
  },
  {
   "cell_type": "markdown",
   "metadata": {},
   "source": [
    "The graph shows that we have still a large peak in lower prices which means the distribution is not normal but the transformation removes the long tail, and we have the bell-shaped curve which is what we want."
   ]
  },
  {
   "cell_type": "markdown",
   "source": [
    "## 6. Feature Selection\n",
    "\n",
    "Statistical (Pearson's correlation matrix) veya ML feature selection yöntemleriyle yapılabilir.\n"
   ],
   "metadata": {
    "collapsed": false
   }
  },
  {
   "cell_type": "markdown",
   "metadata": {},
   "source": [
    "### 6.1. Feature selection with Correlations"
   ]
  },
  {
   "cell_type": "code",
   "execution_count": 48,
   "metadata": {
    "ExecuteTime": {
     "end_time": "2023-05-13T07:59:09.786741Z",
     "start_time": "2023-05-13T07:59:09.692234Z"
    }
   },
   "outputs": [
    {
     "data": {
      "text/plain": "                      year  engine_hp  engine_cylinders  number_of_doors  \\\nyear              1.000000   0.351794         -0.041479         0.263787   \nengine_hp         0.351794   1.000000          0.779988        -0.102713   \nengine_cylinders -0.041479   0.779988          1.000000        -0.140088   \nnumber_of_doors   0.263787  -0.102713         -0.140088         1.000000   \nhighway_mpg       0.258240  -0.406563         -0.621606         0.118570   \ncity_mpg          0.198171  -0.439371         -0.600776         0.120881   \npopularity        0.073049   0.037501          0.041145        -0.048272   \nmsrp              0.227590   0.662008          0.531312        -0.126635   \n\n                  highway_mpg  city_mpg  popularity      msrp  \nyear                 0.258240  0.198171    0.073049  0.227590  \nengine_hp           -0.406563 -0.439371    0.037501  0.662008  \nengine_cylinders    -0.621606 -0.600776    0.041145  0.531312  \nnumber_of_doors      0.118570  0.120881   -0.048272 -0.126635  \nhighway_mpg          1.000000  0.886829   -0.020991 -0.160043  \ncity_mpg             0.886829  1.000000   -0.003217 -0.157676  \npopularity          -0.020991 -0.003217    1.000000 -0.048476  \nmsrp                -0.160043 -0.157676   -0.048476  1.000000  ",
      "text/html": "<div>\n<style scoped>\n    .dataframe tbody tr th:only-of-type {\n        vertical-align: middle;\n    }\n\n    .dataframe tbody tr th {\n        vertical-align: top;\n    }\n\n    .dataframe thead th {\n        text-align: right;\n    }\n</style>\n<table border=\"1\" class=\"dataframe\">\n  <thead>\n    <tr style=\"text-align: right;\">\n      <th></th>\n      <th>year</th>\n      <th>engine_hp</th>\n      <th>engine_cylinders</th>\n      <th>number_of_doors</th>\n      <th>highway_mpg</th>\n      <th>city_mpg</th>\n      <th>popularity</th>\n      <th>msrp</th>\n    </tr>\n  </thead>\n  <tbody>\n    <tr>\n      <th>year</th>\n      <td>1.000000</td>\n      <td>0.351794</td>\n      <td>-0.041479</td>\n      <td>0.263787</td>\n      <td>0.258240</td>\n      <td>0.198171</td>\n      <td>0.073049</td>\n      <td>0.227590</td>\n    </tr>\n    <tr>\n      <th>engine_hp</th>\n      <td>0.351794</td>\n      <td>1.000000</td>\n      <td>0.779988</td>\n      <td>-0.102713</td>\n      <td>-0.406563</td>\n      <td>-0.439371</td>\n      <td>0.037501</td>\n      <td>0.662008</td>\n    </tr>\n    <tr>\n      <th>engine_cylinders</th>\n      <td>-0.041479</td>\n      <td>0.779988</td>\n      <td>1.000000</td>\n      <td>-0.140088</td>\n      <td>-0.621606</td>\n      <td>-0.600776</td>\n      <td>0.041145</td>\n      <td>0.531312</td>\n    </tr>\n    <tr>\n      <th>number_of_doors</th>\n      <td>0.263787</td>\n      <td>-0.102713</td>\n      <td>-0.140088</td>\n      <td>1.000000</td>\n      <td>0.118570</td>\n      <td>0.120881</td>\n      <td>-0.048272</td>\n      <td>-0.126635</td>\n    </tr>\n    <tr>\n      <th>highway_mpg</th>\n      <td>0.258240</td>\n      <td>-0.406563</td>\n      <td>-0.621606</td>\n      <td>0.118570</td>\n      <td>1.000000</td>\n      <td>0.886829</td>\n      <td>-0.020991</td>\n      <td>-0.160043</td>\n    </tr>\n    <tr>\n      <th>city_mpg</th>\n      <td>0.198171</td>\n      <td>-0.439371</td>\n      <td>-0.600776</td>\n      <td>0.120881</td>\n      <td>0.886829</td>\n      <td>1.000000</td>\n      <td>-0.003217</td>\n      <td>-0.157676</td>\n    </tr>\n    <tr>\n      <th>popularity</th>\n      <td>0.073049</td>\n      <td>0.037501</td>\n      <td>0.041145</td>\n      <td>-0.048272</td>\n      <td>-0.020991</td>\n      <td>-0.003217</td>\n      <td>1.000000</td>\n      <td>-0.048476</td>\n    </tr>\n    <tr>\n      <th>msrp</th>\n      <td>0.227590</td>\n      <td>0.662008</td>\n      <td>0.531312</td>\n      <td>-0.126635</td>\n      <td>-0.160043</td>\n      <td>-0.157676</td>\n      <td>-0.048476</td>\n      <td>1.000000</td>\n    </tr>\n  </tbody>\n</table>\n</div>"
     },
     "execution_count": 48,
     "metadata": {},
     "output_type": "execute_result"
    }
   ],
   "source": [
    "corr_matrix = df.corr(numeric_only=True)\n",
    "corr_matrix\n",
    "\n",
    "# TO DO df.apply(lambda x : pd.factorize(x)[0]).corr(method='pearson', min_periods=1)"
   ]
  },
  {
   "cell_type": "code",
   "execution_count": 49,
   "metadata": {
    "ExecuteTime": {
     "end_time": "2023-05-13T07:59:11.627102Z",
     "start_time": "2023-05-13T07:59:11.549290Z"
    }
   },
   "outputs": [
    {
     "data": {
      "text/plain": "msrp                1.000000\nengine_hp           0.662008\nengine_cylinders    0.531312\nyear                0.227590\npopularity         -0.048476\nnumber_of_doors    -0.126635\ncity_mpg           -0.157676\nhighway_mpg        -0.160043\nName: msrp, dtype: float64"
     },
     "execution_count": 49,
     "metadata": {},
     "output_type": "execute_result"
    }
   ],
   "source": [
    "corr_matrix[\"msrp\"].sort_values(ascending=False)"
   ]
  },
  {
   "cell_type": "markdown",
   "metadata": {},
   "source": [
    "The correlation coefficient ranges from -1 to 1. When it is close to 1, that means that there is a strong positive correlation; for example, the `msrp` tends to go up when the `engine_hp` goes up. When the coefficient is close to -1, that means, there is a strong negative correlation; for example, there is a negative correlation between `engine_cylinder` and both `highway_mpg` and `city_mpg`, means; as the number of cylinder increases, the miles per gallon will decrease. Finally, if coefficient close to 0 mean that there is no linear correlation.\n",
    "\n",
    "I put a zoomed example of `msrp` and `engine_hp` below. You can see the positive correlation on the graph."
   ]
  },
  {
   "cell_type": "code",
   "execution_count": 50,
   "metadata": {
    "ExecuteTime": {
     "end_time": "2023-05-13T07:59:13.646493Z",
     "start_time": "2023-05-13T07:59:13.244539Z"
    }
   },
   "outputs": [
    {
     "data": {
      "text/plain": "<AxesSubplot: xlabel='msrp', ylabel='engine_hp'>"
     },
     "execution_count": 50,
     "metadata": {},
     "output_type": "execute_result"
    },
    {
     "data": {
      "text/plain": "<Figure size 640x480 with 1 Axes>",
      "image/png": "[encoded data removed]"
     },
     "metadata": {},
     "output_type": "display_data"
    }
   ],
   "source": [
    "df.plot(kind=\"scatter\", x=\"msrp\", y=\"engine_hp\", alpha=0.5)"
   ]
  },
  {
   "cell_type": "markdown",
   "metadata": {},
   "source": [
    "Also, we can see the correlation matrix as a heatmap to distinguish correlations between features. This can tell you which variables are related to one another."
   ]
  },
  {
   "cell_type": "code",
   "execution_count": 51,
   "outputs": [
    {
     "data": {
      "text/plain": "<Figure size 640x480 with 2 Axes>",
      "image/png": "[encoded data removed]"
     },
     "metadata": {},
     "output_type": "display_data"
    }
   ],
   "source": [
    "plt.figure()\n",
    "sns.heatmap(corr_matrix, annot=True, cmap=plt.cm.Reds)\n",
    "plt.show()"
   ],
   "metadata": {
    "collapsed": false,
    "ExecuteTime": {
     "end_time": "2023-05-13T07:59:16.356453Z",
     "start_time": "2023-05-13T07:59:15.312269Z"
    }
   }
  },
  {
   "cell_type": "code",
   "execution_count": 52,
   "metadata": {
    "ExecuteTime": {
     "end_time": "2023-05-13T07:59:18.427948Z",
     "start_time": "2023-05-13T07:59:16.236335Z"
    }
   },
   "outputs": [
    {
     "data": {
      "text/plain": "<AxesSubplot: >"
     },
     "execution_count": 52,
     "metadata": {},
     "output_type": "execute_result"
    },
    {
     "data": {
      "text/plain": "<Figure size 1200x1200 with 2 Axes>",
      "image/png": "[encoded data removed]"
     },
     "metadata": {},
     "output_type": "display_data"
    }
   ],
   "source": [
    "plt.figure(figsize=(12,12))\n",
    "bla = df.dropna()\n",
    "sns.heatmap(bla.corr(), annot=True, cmap=\"coolwarm\")"
   ]
  },
  {
   "cell_type": "markdown",
   "source": [
    "### We can choose values that are above a certain ratio. Here you can see the features with a correlation of more than 50%."
   ],
   "metadata": {
    "collapsed": false
   }
  },
  {
   "cell_type": "code",
   "execution_count": 53,
   "outputs": [
    {
     "name": "stdout",
     "output_type": "stream",
     "text": [
      "year                0.227590\n",
      "engine_hp           0.662008\n",
      "engine_cylinders    0.531312\n",
      "msrp                1.000000\n",
      "Name: msrp, dtype: float64\n"
     ]
    }
   ],
   "source": [
    "# Correlation with output variable\n",
    "cor_target = abs(corr_matrix[\"msrp\"])\n",
    "\n",
    "# Selecting highly correlated features\n",
    "best_features = cor_target[cor_target > 0.2]\n",
    "print(best_features)"
   ],
   "metadata": {
    "collapsed": false,
    "ExecuteTime": {
     "end_time": "2023-05-13T07:59:22.456580Z",
     "start_time": "2023-05-13T07:59:22.222510Z"
    }
   }
  },
  {
   "cell_type": "markdown",
   "source": [
    "### 6.2 Feature selection with Machine Learning Methods\n",
    "There are many methods to select features in Machine Learning and I will follow some of the methods.\n",
    "First, let's extract X and y."
   ],
   "metadata": {
    "collapsed": false
   }
  },
  {
   "cell_type": "code",
   "execution_count": 54,
   "outputs": [],
   "source": [
    "df_orig = df.copy()\n",
    "\n",
    "#Dropping missing values\n",
    "columns_with_missing_val = [column for column in df_orig.columns\n",
    "                if df_orig[column].isnull().any()]\n",
    "df_orig.drop(columns_with_missing_val, axis=1, inplace=True)\n",
    "\n",
    "# dropping categorical values\n",
    "df_orig = df_orig.select_dtypes(exclude=\"object\")\n",
    "X = df_orig.drop(['msrp'], axis=1)\n",
    "y = np.log1p(df.msrp)"
   ],
   "metadata": {
    "collapsed": false,
    "ExecuteTime": {
     "end_time": "2023-05-13T07:59:27.686283Z",
     "start_time": "2023-05-13T07:59:27.628586Z"
    }
   }
  },
  {
   "cell_type": "markdown",
   "source": [
    "### Let's try Recursive feature elimination with cross-validation to select features."
   ],
   "metadata": {
    "collapsed": false
   }
  },
  {
   "cell_type": "code",
   "execution_count": 29,
   "outputs": [
    {
     "name": "stdout",
     "output_type": "stream",
     "text": [
      "Index(['year', 'highway_mpg', 'city_mpg', 'popularity'], dtype='object')\n",
      "[0.93738388 0.         0.06261612 0.        ]\n"
     ]
    }
   ],
   "source": [
    "# Import\n",
    "from sklearn.ensemble import RandomForestRegressor\n",
    "\n",
    "# Instantiate\n",
    "rf_mod = RandomForestRegressor(max_depth=2, random_state=42,\n",
    "              n_estimators=100, oob_score=True)\n",
    "\n",
    "rf_mod.fit(X, y)\n",
    "\n",
    "# Print\n",
    "print(X.columns)\n",
    "print(rf_mod.feature_importances_)\n"
   ],
   "metadata": {
    "collapsed": false,
    "ExecuteTime": {
     "end_time": "2023-05-10T18:24:41.147362Z",
     "start_time": "2023-05-10T18:24:40.739417Z"
    }
   }
  },
  {
   "cell_type": "code",
   "execution_count": null,
   "outputs": [],
   "source": [],
   "metadata": {
    "collapsed": false
   }
  },
  {
   "cell_type": "code",
   "execution_count": 30,
   "outputs": [
    {
     "name": "stdout",
     "output_type": "stream",
     "text": [
      "Index(['year', 'highway_mpg', 'city_mpg', 'popularity'], dtype='object')\n",
      "[0.77033327 0.05635949 0.10234042 0.07096682]\n"
     ]
    }
   ],
   "source": [
    "# Import\n",
    "from sklearn.ensemble import ExtraTreesRegressor\n",
    "\n",
    "# Instantiate\n",
    "xt_mod = ExtraTreesRegressor()\n",
    "\n",
    "# Fit\n",
    "xt_mod.fit(X, y)\n",
    "\n",
    "# Print\n",
    "print(X.columns)\n",
    "print(xt_mod.feature_importances_)"
   ],
   "metadata": {
    "collapsed": false,
    "ExecuteTime": {
     "end_time": "2023-05-10T18:27:20.255848Z",
     "start_time": "2023-05-10T18:27:18.716746Z"
    }
   }
  },
  {
   "cell_type": "markdown",
   "source": [
    "## 7. Finding the best approaches for both missing values and categorical data\n",
    "First of all, our main target is to find the **best model** for the data. For this, we need to do a series of trials for both missing values and categorical data, and then we need to compare the scores we get from the trials and use the best approaches we have found when creating our model. For finding the best scores, we will use **RMSE(Root Mean Squared Error)** for the performance measure.\n",
    "#### The approaches we will follow for missing values:\n",
    "   **7.1 Approach 1:** Drop columns with missing values\n",
    "   **7.2 Approach 2:** Imputation\n",
    "   **7.3 Approach 3:** An Extension technique for Imputation\n",
    "#### The approaches we will follow for categorical data:\n",
    "   **7.4 Approach 1:** Drop Categorical Variables\n",
    "   **7.5 Approach 2:** Ordinal encoding\n",
    "   **7.6 Approach 3:** One-Hot Encoding"
   ],
   "metadata": {
    "collapsed": false
   }
  },
  {
   "cell_type": "markdown",
   "source": [
    "Let's start with missing values part.\n",
    "First, let's divide the dataset into train and validation. For this, we will use sklearn's **train_test_split** function.\n",
    "\n",
    "Buna zorunlu değiliz, metodlar şeklinde de işlemlerimizi yapabiliriz ancak tanımlama ve açıklama açısından daha rahat olacağına inandığım belli bir yapı üzerinden devam etmek istiyorum."
   ],
   "metadata": {
    "collapsed": false
   }
  },
  {
   "cell_type": "code",
   "execution_count": null,
   "outputs": [],
   "source": [
    "\n",
    "from pandas import DataFrame, Series\n",
    "from dataclasses import dataclass\n",
    "\n",
    "\n",
    "@dataclass\n",
    "class MissingValHandler:\n",
    "    d_frame : DataFrame\n",
    "    X_train: DataFrame = None\n",
    "    X_valid: DataFrame = None\n",
    "    y_train: Series = None\n",
    "    y_valid: Series = None\n",
    "\n",
    "    def drop_columns(self):\n",
    "        pass\n",
    "\n",
    "    def make_imputation(self):\n",
    "        pass\n",
    "\n",
    "    def imputation_extension(self):\n",
    "        pass\n",
    "\n",
    "@dataclass\n",
    "class CustomDataHandler:\n",
    "    d_frame : DataFrame\n",
    "    X_train: DataFrame = None\n",
    "    X_valid: DataFrame = None\n",
    "    y_train: Series = None\n",
    "    y_valid: Series = None\n",
    "\n",
    "    def drop_categorical(self):\n",
    "        pass\n",
    "\n",
    "    def ordinal_encoding(self):\n",
    "        pass\n",
    "\n",
    "    def one_hot_encoding(self):\n",
    "        pass\n"
   ],
   "metadata": {
    "collapsed": false
   }
  },
  {
   "cell_type": "code",
   "execution_count": 75,
   "outputs": [],
   "source": [
    "from sklearn.model_selection import train_test_split\n",
    "\n",
    "# First, we need to copy the original data\n",
    "X_orig = df.drop(['msrp'], axis=1)\n",
    "y_orig = df.msrp\n",
    "\n",
    "# We need to separate the target variable from the dataset.\n",
    "y = np.log1p(y_orig)\n",
    "\n",
    "# Now let's create a new DataFrame named `used_car_predictors` without MSRP column and create the variable `X`, excluding the categorical estimators, which are of type object.\n",
    "used_car_predictors = X_orig # df.drop(['msrp'], axis=1)\n",
    "X = used_car_predictors.select_dtypes(exclude=\"object\")\n",
    "\n",
    "# Let's check the latest variables; We have variable `y` of type Series which is our target variable and variable `X` of type DataFrame which contains numeric values.\n",
    "# Below line of code splits our dataset as train and validation.\n",
    "X_train_missing, X_valid_missing, y_train_missing, y_valid_missing = train_test_split(X, y, train_size=0.8, test_size=0.2, random_state=0)\n",
    "# Note that, we set the random_state parameter to generate the same shuffled indices. It assures the same train and test split will occur for different users."
   ],
   "metadata": {
    "collapsed": false,
    "ExecuteTime": {
     "end_time": "2023-05-13T09:02:18.421127Z",
     "start_time": "2023-05-13T09:02:18.305013Z"
    }
   }
  },
  {
   "cell_type": "markdown",
   "source": [
    "Let's define a function to measure quality of each approach. We will measure by using **RandomForestRegressor** which is an ensemble learning method for regression by generating a large number of decision trees during the training phase and **Root Mean Squared Error(RMSE)** by calculating the square root of the mean of the square of all errors between the model predictions and actual values.\n",
    "\n",
    "RMSE formulation is below:\n",
    "\n",
    "$RMSE = \\sqrt{\\frac{1}{m} \\sum \\limits _{i=1} ^{m}(g(x_{i})-y_{i})^{2}}$\n",
    "\n",
    "Below function will return scores for each approach and we will select the lowest one."
   ],
   "metadata": {
    "collapsed": false
   }
  },
  {
   "cell_type": "code",
   "execution_count": 76,
   "outputs": [],
   "source": [
    "from sklearn.ensemble import RandomForestRegressor\n",
    "from sklearn.metrics import mean_squared_error\n",
    "\n",
    "def score_dataset(X_train, X_valid, y_train, y_valid):\n",
    "    \"\"\"\n",
    "    The method we will follow:\n",
    "        * instantiate\n",
    "        * fit training\n",
    "        * predict test data\n",
    "        * score your model on the test\n",
    "    \"\"\"\n",
    "\n",
    "    model = RandomForestRegressor(n_estimators=100, random_state=0)\n",
    "    model.fit(X_train, y_train)\n",
    "    preds = model.predict(X_valid)\n",
    "    return np.sqrt(mean_squared_error(y_valid, preds))"
   ],
   "metadata": {
    "collapsed": false,
    "ExecuteTime": {
     "end_time": "2023-05-13T09:02:25.348467Z",
     "start_time": "2023-05-13T09:02:25.286612Z"
    }
   }
  },
  {
   "cell_type": "markdown",
   "source": [
    "## Checking for Missing Values"
   ],
   "metadata": {
    "collapsed": false
   }
  },
  {
   "cell_type": "markdown",
   "source": [
    "Before getting into the approaches, let me show you missing values summary."
   ],
   "metadata": {
    "collapsed": false
   }
  },
  {
   "cell_type": "code",
   "execution_count": 77,
   "outputs": [
    {
     "data": {
      "text/plain": "year                 0\nengine_hp           58\nengine_cylinders    24\nnumber_of_doors      6\nhighway_mpg          0\ncity_mpg             0\npopularity           0\ndtype: int64"
     },
     "execution_count": 77,
     "metadata": {},
     "output_type": "execute_result"
    }
   ],
   "source": [
    "X_train_missing.isnull().sum()"
   ],
   "metadata": {
    "collapsed": false,
    "ExecuteTime": {
     "end_time": "2023-05-13T09:03:01.826069Z",
     "start_time": "2023-05-13T09:03:01.746064Z"
    }
   }
  },
  {
   "cell_type": "code",
   "execution_count": 79,
   "outputs": [
    {
     "data": {
      "text/plain": "              year    engine_hp  engine_cylinders  number_of_doors  \\\ncount  9531.000000  9473.000000       9507.000000       9525.00000   \nmean   2010.374672   249.562652          5.630693          3.43853   \nstd       7.589653   109.933046          1.789065          0.88035   \nmin    1990.000000    62.000000          0.000000          2.00000   \n25%    2007.000000   170.000000          4.000000          2.00000   \n50%    2015.000000   225.000000          6.000000          4.00000   \n75%    2016.000000   300.000000          6.000000          4.00000   \nmax    2017.000000  1001.000000         16.000000          4.00000   \n\n       highway_mpg     city_mpg   popularity  \ncount  9531.000000  9531.000000  9531.000000  \nmean     26.668450    19.762145  1545.236806  \nstd       9.092519     9.176809  1437.213887  \nmin      12.000000     8.000000     2.000000  \n25%      22.000000    16.000000   549.000000  \n50%      26.000000    18.000000  1385.000000  \n75%      30.000000    22.000000  2009.000000  \nmax     354.000000   137.000000  5657.000000  ",
      "text/html": "<div>\n<style scoped>\n    .dataframe tbody tr th:only-of-type {\n        vertical-align: middle;\n    }\n\n    .dataframe tbody tr th {\n        vertical-align: top;\n    }\n\n    .dataframe thead th {\n        text-align: right;\n    }\n</style>\n<table border=\"1\" class=\"dataframe\">\n  <thead>\n    <tr style=\"text-align: right;\">\n      <th></th>\n      <th>year</th>\n      <th>engine_hp</th>\n      <th>engine_cylinders</th>\n      <th>number_of_doors</th>\n      <th>highway_mpg</th>\n      <th>city_mpg</th>\n      <th>popularity</th>\n    </tr>\n  </thead>\n  <tbody>\n    <tr>\n      <th>count</th>\n      <td>9531.000000</td>\n      <td>9473.000000</td>\n      <td>9507.000000</td>\n      <td>9525.00000</td>\n      <td>9531.000000</td>\n      <td>9531.000000</td>\n      <td>9531.000000</td>\n    </tr>\n    <tr>\n      <th>mean</th>\n      <td>2010.374672</td>\n      <td>249.562652</td>\n      <td>5.630693</td>\n      <td>3.43853</td>\n      <td>26.668450</td>\n      <td>19.762145</td>\n      <td>1545.236806</td>\n    </tr>\n    <tr>\n      <th>std</th>\n      <td>7.589653</td>\n      <td>109.933046</td>\n      <td>1.789065</td>\n      <td>0.88035</td>\n      <td>9.092519</td>\n      <td>9.176809</td>\n      <td>1437.213887</td>\n    </tr>\n    <tr>\n      <th>min</th>\n      <td>1990.000000</td>\n      <td>62.000000</td>\n      <td>0.000000</td>\n      <td>2.00000</td>\n      <td>12.000000</td>\n      <td>8.000000</td>\n      <td>2.000000</td>\n    </tr>\n    <tr>\n      <th>25%</th>\n      <td>2007.000000</td>\n      <td>170.000000</td>\n      <td>4.000000</td>\n      <td>2.00000</td>\n      <td>22.000000</td>\n      <td>16.000000</td>\n      <td>549.000000</td>\n    </tr>\n    <tr>\n      <th>50%</th>\n      <td>2015.000000</td>\n      <td>225.000000</td>\n      <td>6.000000</td>\n      <td>4.00000</td>\n      <td>26.000000</td>\n      <td>18.000000</td>\n      <td>1385.000000</td>\n    </tr>\n    <tr>\n      <th>75%</th>\n      <td>2016.000000</td>\n      <td>300.000000</td>\n      <td>6.000000</td>\n      <td>4.00000</td>\n      <td>30.000000</td>\n      <td>22.000000</td>\n      <td>2009.000000</td>\n    </tr>\n    <tr>\n      <th>max</th>\n      <td>2017.000000</td>\n      <td>1001.000000</td>\n      <td>16.000000</td>\n      <td>4.00000</td>\n      <td>354.000000</td>\n      <td>137.000000</td>\n      <td>5657.000000</td>\n    </tr>\n  </tbody>\n</table>\n</div>"
     },
     "execution_count": 79,
     "metadata": {},
     "output_type": "execute_result"
    }
   ],
   "source": [
    "X_train_missing.describe()"
   ],
   "metadata": {
    "collapsed": false,
    "ExecuteTime": {
     "end_time": "2023-05-13T09:10:34.755014Z",
     "start_time": "2023-05-13T09:10:34.693117Z"
    }
   }
  },
  {
   "cell_type": "code",
   "execution_count": 83,
   "outputs": [
    {
     "data": {
      "text/plain": "5792    0.0\n9869    0.0\n9868    0.0\n6935    0.0\n8375    0.0\n6392    0.0\n5790    0.0\n9850    0.0\n6389    0.0\n6933    0.0\n6928    0.0\n6390    0.0\n6934    0.0\n539     0.0\n5793    0.0\n6931    0.0\n4798    0.0\n6391    0.0\n9870    0.0\n6386    0.0\n6394    0.0\n6923    0.0\n6938    0.0\n9872    0.0\n9851    0.0\n6387    0.0\n6393    0.0\n4785    0.0\n1680    0.0\n6925    0.0\n4705    0.0\n6936    0.0\n9854    0.0\n8374    0.0\n5791    0.0\n9852    0.0\n4789    0.0\n540     0.0\n9871    0.0\n6385    0.0\n9853    0.0\n1682    0.0\n6932    0.0\n1681    0.0\n6388    0.0\n6927    0.0\n6930    0.0\n6922    0.0\n6926    0.0\n6921    0.0\nName: engine_cylinders, dtype: float64"
     },
     "execution_count": 83,
     "metadata": {},
     "output_type": "execute_result"
    }
   ],
   "source": [
    "X_train_missing.engine_cylinders[X_train_missing.engine_cylinders == 0]"
   ],
   "metadata": {
    "collapsed": false,
    "ExecuteTime": {
     "end_time": "2023-05-13T09:14:39.289606Z",
     "start_time": "2023-05-13T09:14:39.233015Z"
    }
   }
  },
  {
   "cell_type": "code",
   "execution_count": 56,
   "outputs": [
    {
     "ename": "NameError",
     "evalue": "name 'X_train_missing' is not defined",
     "output_type": "error",
     "traceback": [
      "\u001B[0;31m---------------------------------------------------------------------------\u001B[0m",
      "\u001B[0;31mNameError\u001B[0m                                 Traceback (most recent call last)",
      "Cell \u001B[0;32mIn [56], line 2\u001B[0m\n\u001B[1;32m      1\u001B[0m \u001B[38;5;66;03m# Shape of training data (num_rows, num_columns)\u001B[39;00m\n\u001B[0;32m----> 2\u001B[0m \u001B[38;5;28mprint\u001B[39m(\u001B[43mX_train_missing\u001B[49m\u001B[38;5;241m.\u001B[39mshape)\n\u001B[1;32m      4\u001B[0m \u001B[38;5;66;03m# Number of missing values in each column of training data\u001B[39;00m\n\u001B[1;32m      5\u001B[0m missing_val_count_by_column \u001B[38;5;241m=\u001B[39m (X_train_missing\u001B[38;5;241m.\u001B[39misnull()\u001B[38;5;241m.\u001B[39msum())\n",
      "\u001B[0;31mNameError\u001B[0m: name 'X_train_missing' is not defined"
     ]
    }
   ],
   "source": [
    "# Shape of training data (num_rows, num_columns)\n",
    "print(X_train_missing.shape)\n",
    "\n",
    "# Number of missing values in each column of training data\n",
    "missing_val_count_by_column = (X_train_missing.isnull().sum())\n",
    "print(missing_val_count_by_column[missing_val_count_by_column > 0])"
   ],
   "metadata": {
    "collapsed": false,
    "ExecuteTime": {
     "end_time": "2023-05-13T08:04:10.433962Z",
     "start_time": "2023-05-13T08:04:10.290673Z"
    }
   }
  },
  {
   "cell_type": "markdown",
   "metadata": {},
   "source": [
    "The first thing we see is that MSRP — our target variable — does not have any missing\n",
    "values. This result is good, because otherwise, such records won’t be useful to us: we\n",
    "always need to know the target value of an observation to use it for training the model.\n",
    "\n",
    "Let's dive in to the approaches for handling missing values;"
   ]
  },
  {
   "cell_type": "markdown",
   "metadata": {},
   "source": [
    "### Approach 1: Drop columns with missing values"
   ]
  },
  {
   "cell_type": "markdown",
   "metadata": {},
   "source": [
    "First we need to get column names with missing values."
   ]
  },
  {
   "cell_type": "code",
   "execution_count": 24,
   "metadata": {},
   "outputs": [
    {
     "data": {
      "text/plain": "['engine_hp', 'engine_cylinders', 'number_of_doors']"
     },
     "execution_count": 24,
     "metadata": {},
     "output_type": "execute_result"
    }
   ],
   "source": [
    "cols_with_missing = [col for col in X_train_missing.columns\n",
    "                    if X_train_missing[col].isnull().any()]\n",
    "cols_with_missing"
   ]
  },
  {
   "cell_type": "markdown",
   "metadata": {},
   "source": [
    "Since we are working with both training and validation sets, we will drop columns with missing values from both DataFrames."
   ]
  },
  {
   "cell_type": "code",
   "execution_count": 29,
   "metadata": {},
   "outputs": [
    {
     "name": "stdout",
     "output_type": "stream",
     "text": [
      "RMSE from Approach 1 (Drop columns with missing values:)\n",
      "0.1575510051740507\n"
     ]
    }
   ],
   "source": [
    "reduced_X_train = X_train_missing.drop(cols_with_missing, axis=1)\n",
    "reduced_X_valid = X_valid_missing.drop(cols_with_missing, axis=1)\n",
    "\n",
    "print(\"RMSE from Approach 1 (Drop columns with missing values:)\")\n",
    "print(score_dataset(reduced_X_train, reduced_X_valid, y_train_missing, y_valid_missing))"
   ]
  },
  {
   "cell_type": "markdown",
   "metadata": {},
   "source": [
    "Our score with **dropping columns with missing values** approach is 0.10890942126255983.\n",
    "Let's jump to the second approach."
   ]
  },
  {
   "cell_type": "markdown",
   "metadata": {},
   "source": [
    "### Approach 2:  Imputation"
   ]
  },
  {
   "cell_type": "markdown",
   "metadata": {},
   "source": [
    "Next, we use `SimpleImputer` to replace missing values with the mean value along each column."
   ]
  },
  {
   "cell_type": "code",
   "execution_count": 30,
   "metadata": {},
   "outputs": [
    {
     "name": "stdout",
     "output_type": "stream",
     "text": [
      "RMSE from Approach 2 (Imputation:)\n",
      "0.11737426386091374\n"
     ]
    }
   ],
   "source": [
    "from sklearn.impute import SimpleImputer\n",
    "\n",
    "# Make copy to avoid changing original data\n",
    "X_train_imputation = X_train_missing.copy()\n",
    "X_valid_imputation = X_valid_missing.copy()\n",
    "\n",
    "# Imputation\n",
    "my_imputer = SimpleImputer(strategy='mean',)\n",
    "imputed_X_train = pd.DataFrame(my_imputer.fit_transform(X_train_imputation))\n",
    "imputed_X_valid = pd.DataFrame(my_imputer.transform(X_valid_imputation))\n",
    "\n",
    "# Imputation removed column names; put them back\n",
    "imputed_X_train.columns = X_train_missing.columns\n",
    "imputed_X_valid.columns = X_valid_missing.columns\n",
    "\n",
    "print(\"RMSE from Approach 2 (Imputation:)\")\n",
    "print(score_dataset(imputed_X_train, imputed_X_valid, y_train_missing, y_valid_missing))"
   ]
  },
  {
   "cell_type": "markdown",
   "metadata": {},
   "source": [
    "We see that Approach 2 has lower _MAE_ than **Approach 1**, so **Approach 2** performed better on this dataset."
   ]
  },
  {
   "cell_type": "markdown",
   "metadata": {},
   "source": [
    "### Approach 3: An Extension to Imputation\n",
    "Next, we impute the missing values, while also keeping track of which values were imputed."
   ]
  },
  {
   "cell_type": "code",
   "execution_count": 31,
   "metadata": {},
   "outputs": [
    {
     "name": "stdout",
     "output_type": "stream",
     "text": [
      "engine_hp\n",
      "engine_cylinders\n",
      "number_of_doors\n",
      "RMSE from Approach 3 (An Extension to Imputation:)\n",
      "0.1177572258969438\n"
     ]
    }
   ],
   "source": [
    "# Make copy to avoid changing original data\n",
    "X_train_plus = X_train_missing.copy()\n",
    "X_valid_plus = X_valid_missing.copy()\n",
    "\n",
    "# Make new columns indicating what will be imputed\n",
    "for col in cols_with_missing:\n",
    "    print(col)\n",
    "    X_train_plus[col + '_was_missing'] = X_train_plus[col].isnull()\n",
    "    X_valid_plus[col + '_was_missing'] = X_valid_plus[col].isnull()\n",
    "    \n",
    "# Imputation\n",
    "my_imputer = SimpleImputer()\n",
    "imputed_X_train_plus = pd.DataFrame(my_imputer.fit_transform(X_train_plus), columns=X_train_plus.columns)\n",
    "imputed_X_valid_plus = pd.DataFrame(my_imputer.transform(X_valid_plus), columns=X_valid_plus.columns)\n",
    "\n",
    "#imputed_X_train_plus.columns = X_train_plus.columns\n",
    "# imputed_X_valid_plus.columns = X_valid_plus.columns\n",
    "\n",
    "print(\"RMSE from Approach 3 (An Extension to Imputation:)\")\n",
    "print(score_dataset(imputed_X_train_plus, imputed_X_valid_plus, y_train_missing, y_valid_missing))"
   ]
  },
  {
   "cell_type": "markdown",
   "metadata": {},
   "source": [
    "As we can see, **Approach 3** performed slightly worse than **Approach 2**.\n",
    "\n",
    "In conclusion, imputing missing values (in **Approach 2** and **Approach 3**) yielded better results, relative to when we simply dropped columns with missing values (in **Approach 1**)."
   ]
  },
  {
   "cell_type": "markdown",
   "metadata": {},
   "source": [
    "## Categorical Variables"
   ]
  },
  {
   "cell_type": "markdown",
   "metadata": {},
   "source": [
    "We have, again, 3 approaches; Drop Categorical Variables, Ordinal Encoding and One-Hot Encoding.\n",
    "\n",
    "Bu üç yaklaşıma başlamadan önce, verinin ön hazırlığı önerilen şekilde hazırlayıp bu üç yöntemi deneyeceğiz. Sonrasında da daha basit bir yolu deneyerek karşılaştırma yapacağız.\n",
    "\n",
    "Before starting, we will apply preprocessing and observe scores with the recommended way which is briefly concatanating low cardinality columns with numerical columns. Low cardinality means, categorical columns with less number of unique values. We will choose the number of unique values less than 10 for each categorical columns.\n",
    "\n",
    "Let's do the preprocessing:"
   ]
  },
  {
   "cell_type": "code",
   "execution_count": null,
   "outputs": [],
   "source": [
    "# First, we need to copy the original data\n",
    "X = X_orig.copy()\n",
    "\n",
    "# We need to separate the target variable from the dataset.\n",
    "y = np.log1p(y_orig)\n",
    "\n",
    "# Divide data into training and validation subsets\n",
    "X_train_full, X_valid_full, y_train, y_valid = train_test_split(X, y, train_size=0.8, test_size=0.2, random_state=0)"
   ],
   "metadata": {
    "collapsed": false
   }
  },
  {
   "cell_type": "code",
   "execution_count": null,
   "outputs": [],
   "source": [
    "\"\"\"\n",
    "y = df.msrp # np.log1p(df.msrp)\n",
    "X = df.drop(['msrp'], axis=1)\n",
    "\n",
    "# Divide data into training and validation subsets\n",
    "X_train_full, X_valid_full, y_train, y_valid = train_test_split(X, y, train_size=0.8, test_size=0.2, random_state=0)\n",
    "\"\"\"\n",
    "\n",
    "\"\"\"\n",
    "# Drop columns with missing values (simplest approach)\n",
    "cols_with_missing = [col for col in X_train_full.columns if X_train_full[col].isnull().any()]\n",
    "\n",
    "# print(cols_with_missing)\n",
    "\n",
    "X_train_full.drop(cols_with_missing, axis=1, inplace=True)\n",
    "X_valid_full.drop(cols_with_missing, axis=1, inplace=True)\n",
    "\n",
    "# \"Cardinality\" means the number of unique values in a column\n",
    "# Select categorical columns with relatively low cardinality (convenient but arbitrary)\n",
    "low_cardinality_cols = [cname for cname in X_train_full.columns if X_train_full[cname].nunique() < 20 and\n",
    "                       X_train_full[cname].dtype == \"object\"]\n",
    "\n",
    "# low_cardinality_cols_1 = [cname for cname in X_train_full.columns if X_train_full[cname].dtype == \"object\"]\n",
    "\n",
    "numerical_cols = [cname for cname in X_train_full.columns if X_train_full[cname].dtype in ['int64', 'float64']]\n",
    "\n",
    "# Keep selected columns only\n",
    "my_cols = low_cardinality_cols + numerical_cols\n",
    "X_train = X_train_full[my_cols].copy()\n",
    "X_valid = X_valid_full[my_cols].copy()\n",
    "\"\"\"\n",
    "\n",
    "#-----------------------------------\n",
    "# \"\"\"\n",
    "\n",
    "# Drop columns with missing values (simplest approach)\n",
    "cols_with_missing = [col for col in X_train_full.columns if X_train_full[col].isnull().any()]\n",
    "\n",
    "\n",
    "low_cardinality_cols = [cname for cname in X_train_full.columns if X_train_full[cname].nunique() < 10 and\n",
    "                      X_train_full[cname].dtype == \"object\"]\n",
    "\n",
    "\n",
    "# Select numerical columns\n",
    "numerical_cols = [cname for cname in X_train_full.columns if X_train_full[cname].dtype in ['int64', 'float64']]\n",
    "\n",
    "# Keep selected columns only\n",
    "my_cols = low_cardinality_cols + numerical_cols\n",
    "X_train = X_train_full[my_cols].copy()\n",
    "X_valid = X_valid_full[my_cols].copy()\n"
   ],
   "metadata": {
    "collapsed": false
   }
  },
  {
   "cell_type": "markdown",
   "metadata": {},
   "source": [
    "Let's examine these three topics one by one."
   ]
  },
  {
   "cell_type": "markdown",
   "source": [
    "A **categorical variable** takes only a limited number of values.\n",
    "\n",
    "You can find the list of categorical variables below."
   ],
   "metadata": {
    "collapsed": false
   }
  },
  {
   "cell_type": "code",
   "execution_count": null,
   "outputs": [],
   "source": [
    "# Get list of categorical variables\n",
    "s = (df.dtypes == 'object')\n",
    "object_cols = list(s[s].index)\n",
    "\n",
    "print(\"Categorical variables:\")\n",
    "print(object_cols)"
   ],
   "metadata": {
    "collapsed": false
   }
  },
  {
   "cell_type": "markdown",
   "metadata": {},
   "source": [
    " ### Approach 1: Drop Categorical Variables\n",
    " \n",
    " The easiest approach is to simply remove from the dataset. \n",
    " We drop the `object` columns from our dataset with using `select_dtypes()` method."
   ]
  },
  {
   "cell_type": "code",
   "execution_count": null,
   "metadata": {},
   "outputs": [],
   "source": [
    "# Make copy to avoid changing original data\n",
    "label_X_train = X_train.copy()\n",
    "label_X_valid = X_valid.copy()\n",
    "\n",
    "print(label_X_train.columns)\n",
    "\n",
    "# We're dropping the categorical variables\n",
    "drop_X_train = label_X_train.select_dtypes(exclude=['object'])\n",
    "drop_X_valid = label_X_valid.select_dtypes(exclude=['object'])\n",
    "\n",
    "print(\"MAE from Approach 1 (Drop categorical variables):\")\n",
    "print(score_dataset(drop_X_train, drop_X_valid, y_train, y_valid))"
   ]
  },
  {
   "cell_type": "markdown",
   "metadata": {},
   "source": [
    "## Approach 2: Ordinal encoding"
   ]
  },
  {
   "cell_type": "markdown",
   "metadata": {},
   "source": [
    "Scikit-learn has a `OrdinalEncoder` class that can be used to get ordinal encodings. We loop over the categorical variables and apply the ordinal encoder separately to each column.\n",
    "\n",
    "#### With low cardinality"
   ]
  },
  {
   "cell_type": "code",
   "execution_count": null,
   "metadata": {},
   "outputs": [],
   "source": [
    "from sklearn.preprocessing import OrdinalEncoder\n",
    "\n",
    "# Make copy to avoid changing original data\n",
    "label_X_train = X_train.copy()\n",
    "label_X_valid = X_valid.copy()\n",
    "\n",
    "# Apply ordinal encoder to each column with categorical data\n",
    "ordinal_encoder = OrdinalEncoder()\n",
    "label_X_train[low_cardinality_cols] = ordinal_encoder.fit_transform(X_train[low_cardinality_cols])\n",
    "label_X_valid[low_cardinality_cols] = ordinal_encoder.transform(X_valid[low_cardinality_cols])\n",
    "\n",
    "print(\"MAE from Approach 2 (Ordinal Encoding):\") \n",
    "print(score_dataset(label_X_train, label_X_valid, y_train, y_valid))"
   ]
  },
  {
   "cell_type": "markdown",
   "metadata": {},
   "source": [
    "### Approach 3 (One-Hot Encoding)"
   ]
  },
  {
   "cell_type": "code",
   "execution_count": null,
   "metadata": {},
   "outputs": [],
   "source": [
    "from sklearn.preprocessing import OneHotEncoder\n",
    "\n",
    "# Apply one-hot encoder to each column with categorical data\n",
    "OH_encoder = OneHotEncoder(handle_unknown='ignore', sparse=False)\n",
    "OH_cols_train = pd.DataFrame(OH_encoder.fit_transform(X_train[low_cardinality_cols]))\n",
    "OH_cols_valid = pd.DataFrame(OH_encoder.transform(X_valid[low_cardinality_cols]))\n",
    "\n",
    "# One-hot encoding removed index; put it back\n",
    "OH_cols_train.index = X_train.index\n",
    "OH_cols_valid.index = X_valid.index\n",
    "\n",
    "# Remove categorical columns (will replace with one-hot encoding)\n",
    "num_X_train = X_train.drop(low_cardinality_cols, axis=1)\n",
    "num_X_valid = X_valid.drop(low_cardinality_cols, axis=1)\n",
    "\n",
    "# Add one-hot encoded columns to numerical features\n",
    "OH_X_train = pd.concat([num_X_train, OH_cols_train], axis=1)\n",
    "OH_X_valid = pd.concat([num_X_valid, OH_cols_valid], axis=1)\n",
    "\n",
    "print(\"MAE from Approach 3 (One-Hot Encoding):\") \n",
    "print(score_dataset(OH_X_train, OH_X_valid, y_train, y_valid))"
   ]
  },
  {
   "cell_type": "markdown",
   "source": [
    "Bu da demek oluyor ki, biz to replace missing values with the mean value along each column  ve Kategorik verilerin handle edilmesinde de One-Hot Encoding kullanacağız.\n",
    "\n",
    "Aşağıda yapısal olarak daha düzenli görünen bir Pipeline kullanalım\n"
   ],
   "metadata": {
    "collapsed": false
   }
  },
  {
   "cell_type": "markdown",
   "metadata": {},
   "source": [
    "### PIPELINE"
   ]
  },
  {
   "cell_type": "code",
   "execution_count": null,
   "outputs": [],
   "source": [
    "print(numerical_cols)\n",
    "print(low_cardinality_cols)"
   ],
   "metadata": {
    "collapsed": false
   }
  },
  {
   "cell_type": "code",
   "execution_count": null,
   "metadata": {},
   "outputs": [],
   "source": [
    "from sklearn.compose import ColumnTransformer\n",
    "from sklearn.pipeline import Pipeline\n",
    "from sklearn.impute import SimpleImputer\n",
    "from sklearn.preprocessing import OneHotEncoder\n",
    "from sklearn.preprocessing import StandardScaler\n",
    "from sklearn.preprocessing import MinMaxScaler\n",
    "\n",
    "# Preprocessing for numerical data\n",
    "numerical_transformer = Pipeline(steps=[\n",
    "     ('imputer', SimpleImputer(strategy='mean')),\n",
    "     ('std_scaler', StandardScaler())\n",
    "]) \n",
    "\n",
    "# Preprocessing for categorical data\n",
    "categorical_transformer = Pipeline(steps=[\n",
    "    ('imputer', SimpleImputer(strategy='most_frequent')),\n",
    "    ('onehot', OneHotEncoder(handle_unknown='ignore', sparse=False))\n",
    "])\n",
    "\n",
    "# Bundle preprocessing for numerical and categorical data\n",
    "preprocessor = ColumnTransformer(\n",
    "    transformers=[\n",
    "        ('num', numerical_transformer, numerical_cols),\n",
    "        ('cat', categorical_transformer, low_cardinality_cols)\n",
    "    ])"
   ]
  },
  {
   "cell_type": "code",
   "execution_count": null,
   "metadata": {},
   "outputs": [],
   "source": [
    "from sklearn.ensemble import RandomForestRegressor\n",
    "\n",
    "model = RandomForestRegressor(n_estimators = 1300, max_leaf_nodes = 700, random_state=0)"
   ]
  },
  {
   "cell_type": "code",
   "execution_count": null,
   "metadata": {},
   "outputs": [],
   "source": [
    "from sklearn.metrics import mean_absolute_error\n",
    "\n",
    "# Bundle preprocessing and modeling code in a pipeline\n",
    "my_pipeline = Pipeline(steps=[('preprocessor', preprocessor),\n",
    "                      ('model', model)\n",
    "                     ])"
   ]
  },
  {
   "cell_type": "code",
   "execution_count": null,
   "metadata": {},
   "outputs": [],
   "source": [
    "# Preprocessing pf training data, fit model\n",
    "my_pipeline.fit(X_train, y_train)"
   ]
  },
  {
   "cell_type": "code",
   "execution_count": null,
   "metadata": {},
   "outputs": [],
   "source": [
    "# Preprocessing of validation data, get predictions\n",
    "preds = my_pipeline.predict(X_valid)"
   ]
  },
  {
   "cell_type": "code",
   "execution_count": null,
   "metadata": {},
   "outputs": [],
   "source": [
    "# Evaluate the model\n",
    "score = mean_absolute_error(y_valid, preds)\n",
    "print('MAE:', score)"
   ]
  },
  {
   "cell_type": "code",
   "execution_count": null,
   "outputs": [],
   "source": [
    "preds"
   ],
   "metadata": {
    "collapsed": false
   }
  },
  {
   "cell_type": "code",
   "execution_count": null,
   "outputs": [],
   "source": [
    "sns.histplot(preds, color='red', bins=50, alpha=0.5)\n",
    "sns.histplot(y_train, color='blue', bins=50, alpha=0.5)"
   ],
   "metadata": {
    "collapsed": false
   }
  },
  {
   "cell_type": "markdown",
   "source": [],
   "metadata": {
    "collapsed": false
   }
  },
  {
   "cell_type": "code",
   "execution_count": null,
   "outputs": [],
   "source": [
    "X_train.columns"
   ],
   "metadata": {
    "collapsed": false
   }
  },
  {
   "cell_type": "code",
   "execution_count": null,
   "outputs": [],
   "source": [
    "base = ['engine_hp', 'engine_cylinders', 'highway_mpg', 'city_mpg', 'popularity']\n",
    "def prepare_X(df):\n",
    "    df = df.copy()\n",
    "    features = base.copy()\n",
    "\n",
    "    df['age'] = 2017 - df.year\n",
    "    features.append('age')\n",
    "\n",
    "    for v in [2, 3, 4]:\n",
    "        feature = 'num_doors_%s' % v\n",
    "        df[feature] = (df['number_of_doors'] == v).astype(int)\n",
    "        features.append(feature)\n",
    "\n",
    "    for v in ['chevrolet', 'ford', 'volkswagen', 'toyota', 'dodge']:\n",
    "        feature = 'is_make_%s' % v\n",
    "        df[feature] = (df['make'] == v).astype(int)\n",
    "        features.append(feature)\n",
    "\n",
    "    df_num = df[features]\n",
    "    df_num = df_num.fillna(0)\n",
    "    X = df_num.values\n",
    "    return X"
   ],
   "metadata": {
    "collapsed": false
   }
  },
  {
   "cell_type": "code",
   "execution_count": null,
   "outputs": [],
   "source": [
    "X_train = prepare_X(X_train)\n",
    "my_pipeline.fit(X_train, y_train)\n",
    "preds = my_pipeline.predict(X_valid)"
   ],
   "metadata": {
    "collapsed": false
   }
  },
  {
   "cell_type": "code",
   "execution_count": null,
   "outputs": [],
   "source": [],
   "metadata": {
    "collapsed": false
   }
  },
  {
   "cell_type": "code",
   "execution_count": null,
   "outputs": [],
   "source": [],
   "metadata": {
    "collapsed": false
   }
  },
  {
   "cell_type": "code",
   "execution_count": null,
   "outputs": [],
   "source": [],
   "metadata": {
    "collapsed": false
   }
  },
  {
   "cell_type": "code",
   "execution_count": null,
   "outputs": [],
   "source": [],
   "metadata": {
    "collapsed": false
   }
  },
  {
   "cell_type": "code",
   "execution_count": null,
   "outputs": [],
   "source": [],
   "metadata": {
    "collapsed": false
   }
  },
  {
   "cell_type": "code",
   "execution_count": null,
   "outputs": [],
   "source": [],
   "metadata": {
    "collapsed": false
   }
  },
  {
   "cell_type": "code",
   "execution_count": null,
   "outputs": [],
   "source": [],
   "metadata": {
    "collapsed": false
   }
  },
  {
   "cell_type": "code",
   "execution_count": null,
   "outputs": [],
   "source": [],
   "metadata": {
    "collapsed": false
   }
  },
  {
   "cell_type": "code",
   "execution_count": null,
   "outputs": [],
   "source": [],
   "metadata": {
    "collapsed": false
   }
  },
  {
   "cell_type": "code",
   "execution_count": null,
   "outputs": [],
   "source": [],
   "metadata": {
    "collapsed": false
   }
  },
  {
   "cell_type": "code",
   "execution_count": null,
   "metadata": {},
   "outputs": [],
   "source": [
    "from pandas.plotting import scatter_matrix\n",
    "\n",
    "attributes = ['make','year', 'engine_hp', 'transmission_type', 'market_category', 'vehicle_size', 'vehicle_style', 'msrp']\n",
    "\n",
    "scatter_matrix(df[attributes], figsize=(12, 8), s=150)"
   ]
  },
  {
   "cell_type": "code",
   "execution_count": null,
   "metadata": {},
   "outputs": [],
   "source": []
  },
  {
   "cell_type": "code",
   "execution_count": null,
   "metadata": {},
   "outputs": [],
   "source": []
  },
  {
   "cell_type": "code",
   "execution_count": null,
   "metadata": {},
   "outputs": [],
   "source": [
    "\"\"\"\n",
    "X_train_numerical = X_train_full.select_dtypes(exclude=['object'])\n",
    "X_valid_numerical = X_train_full.select_dtypes(exclude=['object'])\n",
    "\n",
    "\n",
    "X_train_categorical = X_train_full.select_dtypes(exclude=[\"float64\", \"int64\"])\n",
    "X_valid_categorical = X_train_full.select_dtypes(exclude=[\"float64\", \"int64\"])\n",
    "\n",
    "\n",
    "# SIMPLE IMPUTER\n",
    "my_imputer = SimpleImputer(strategy='mean')\n",
    "imputed_X_train_numerical = pd.DataFrame(my_imputer.fit_transform(X_train_numerical))\n",
    "imputed_X_valid_numerical = pd.DataFrame(my_imputer.transform(X_valid_numerical))\n",
    "\n",
    "imputed_X_train_numerical.fillna(999, inplace=True)\n",
    "imputed_X_valid_numerical.fillna(999, inplace=True)\n",
    "\n",
    "imputed_X_train = imputed_X_train_numerical + X_train_categorical\n",
    "imputed_X_valid = imputed_X_valid_numerical + X_valid_categorical\n",
    "\n",
    "\n",
    "# Imputation removed column names; put them back\n",
    "imputed_X_train.columns = X_train_full.columns\n",
    "imputed_X_valid.columns = X_valid_full.columns\n",
    "\n",
    "# X_train.fillna(X_train.median(), inplace=True)\n",
    "# X_valid.fillna(X_valid.median(), inplace=True)\n",
    "\n",
    "# X_train = X_train.reset_index()\n",
    "# X_valid = X_valid.reset_index()\n",
    "\"\"\""
   ]
  },
  {
   "cell_type": "code",
   "execution_count": null,
   "metadata": {},
   "outputs": [],
   "source": [
    "# Make copy to avoid changing original data\n",
    "# X_train_a1 = X_train.copy()\n",
    "# X_valid_a1 = X_valid.copy()\n",
    "\n",
    "#X_train_a1 = imputed_X_train.copy()\n",
    "#X_valid_a1 = imputed_X_valid.copy()\n",
    "\n",
    "X_train_a1 = reduced_X_train.copy()\n",
    "X_valid_a1 = reduced_X_valid.copy()\n",
    "\n",
    "\n",
    "\n",
    "#X_train_a1.fillna(999, inplace=True)\n",
    "#X_valid_a1.fillna(999, inplace=True)\n",
    "\n",
    "drop_X_train = X_train_a1.select_dtypes(exclude=['object'])\n",
    "drop_X_valid = X_valid_a1.select_dtypes(exclude=['object'])\n",
    "\n",
    "print(\"MAE from Approach 1 (Drop categorical variables):\")\n",
    "print(score_dataset(drop_X_train, drop_X_valid, y_train, y_valid))"
   ]
  },
  {
   "cell_type": "code",
   "execution_count": null,
   "metadata": {},
   "outputs": [],
   "source": [
    "np.any(np.isnan(X_train))"
   ]
  },
  {
   "cell_type": "code",
   "execution_count": null,
   "metadata": {},
   "outputs": [],
   "source": [
    "np.any(np.isnan(X_valid_a1))"
   ]
  },
  {
   "cell_type": "code",
   "execution_count": null,
   "metadata": {},
   "outputs": [],
   "source": []
  },
  {
   "cell_type": "code",
   "execution_count": null,
   "metadata": {},
   "outputs": [],
   "source": []
  },
  {
   "cell_type": "code",
   "execution_count": null,
   "metadata": {},
   "outputs": [],
   "source": []
  },
  {
   "cell_type": "code",
   "execution_count": null,
   "metadata": {},
   "outputs": [],
   "source": [
    "\"\"\"\n",
    "2) Ordinal Encoding\n",
    " \n",
    "     This approach assumes an ordering of the categories. \n",
    "     For example, \"red\" is 1, \"green\" is 2, and \"blue\" is 3.\n",
    " \n",
    " 3) One-Hot Encoding\n",
    " \n",
    "     One-hot encoding creates new columns indicating the presence (or absence) of each possible value in the original data.\n",
    "\"\"\""
   ]
  },
  {
   "cell_type": "code",
   "execution_count": null,
   "metadata": {},
   "outputs": [],
   "source": []
  },
  {
   "cell_type": "code",
   "execution_count": null,
   "metadata": {},
   "outputs": [],
   "source": []
  },
  {
   "cell_type": "code",
   "execution_count": null,
   "metadata": {},
   "outputs": [],
   "source": []
  },
  {
   "cell_type": "code",
   "execution_count": null,
   "metadata": {},
   "outputs": [],
   "source": []
  },
  {
   "cell_type": "code",
   "execution_count": null,
   "metadata": {},
   "outputs": [],
   "source": []
  },
  {
   "cell_type": "code",
   "execution_count": null,
   "metadata": {},
   "outputs": [],
   "source": []
  },
  {
   "cell_type": "code",
   "execution_count": null,
   "metadata": {},
   "outputs": [],
   "source": []
  },
  {
   "cell_type": "code",
   "execution_count": null,
   "metadata": {},
   "outputs": [],
   "source": []
  },
  {
   "cell_type": "code",
   "execution_count": null,
   "metadata": {},
   "outputs": [],
   "source": []
  },
  {
   "cell_type": "markdown",
   "metadata": {},
   "source": [
    "### Baseline solution\n",
    "\n",
    "To be able to use it, we need to have some data: a matrix $X$ and a vector with the target variable $y$. We have already prepared the $y$, but we still don't have the $X$: what we have right noe is a data frame, not a matrix. So we need to extract some features from our dataset to create this matrix X.\n",
    "\n",
    "In the previous example, we used only three features. This time, we include a couple more features and use the following columns:\n",
    "* engine_hp\n",
    "* engine_cylinders\n",
    "* highway_mpg\n",
    "* city_mpg\n",
    "* popularity\n",
    "\n",
    "Let's select the features from the data frame and write them to a new variable, df_num:"
   ]
  },
  {
   "cell_type": "code",
   "execution_count": null,
   "outputs": [],
   "source": [
    "class LinearRegression:\n",
    "    def __init__(self, lr=0.001, n_iters=1000):\n",
    "        self.lr = lr\n",
    "        self.n_iters = n_iters\n",
    "        self.weights = None\n",
    "        self.bias = None\n",
    "\n",
    "    def fit(self, X, y):\n",
    "        n_samples, n_features = X.shape\n",
    "        self.weights = np.zeros(n_features)\n",
    "        self.bias = 0\n",
    "        for _ in range(self.n_iters):\n",
    "            y_pred = np.dot(X, self.weights) + self.bias\n",
    "            dw = (1 / n_samples) * np.dot(X.T, (y_pred - y))\n",
    "            db = (1 / n_samples) * np.sum(y_pred - y)\n",
    "            self.weights = self.weights - (self.lr * dw)\n",
    "            self.bias = self.bias - (self.lr * db)\n",
    "\n",
    "    def predict(self, X):\n",
    "        y_pred = np.dot(X, self.weights) + self.bias\n",
    "        return y_pred\n",
    "\n",
    "    def mse(self, y_test, preds):\n",
    "        return np.mean((y_test - preds)**2)\n"
   ],
   "metadata": {
    "collapsed": false
   }
  },
  {
   "cell_type": "code",
   "execution_count": null,
   "outputs": [],
   "source": [
    "y = np.log1p(df.msrp)\n",
    "used_car_predictors = df.drop(['msrp'], axis=1)\n",
    "X = used_car_predictors.select_dtypes(exclude=\"object\")\n",
    "X_train, X_valid, y_train, y_valid = train_test_split(X, y, train_size=0.8, test_size=0.2, random_state=0)\n",
    "\n",
    "\n",
    "linear_regression = LinearRegression()\n",
    "linear_regression.fit(X_train, y_train)\n",
    "predictions = linear_regression.predict(X_valid)\n",
    "\n",
    "mse = linear_regression.mse(y_test=y_valid, preds=predictions)\n",
    "print(mse)"
   ],
   "metadata": {
    "collapsed": false
   }
  },
  {
   "cell_type": "code",
   "execution_count": null,
   "metadata": {},
   "outputs": [],
   "source": [
    "base = ['engine_hp', 'engine_cylinders', 'highway_mpg', 'city_mpg', 'popularity']\n",
    "df_num = df_train[base]"
   ]
  },
  {
   "cell_type": "markdown",
   "metadata": {},
   "source": [
    "The dataset has missing values,so we need to do something because the linear regression model cannot deal with missing values automatically.\n",
    "\n",
    "The simplest possible approach is to fill the missing values with zeros. We can use the $fillna$ method from Pandas:"
   ]
  },
  {
   "cell_type": "code",
   "execution_count": null,
   "metadata": {},
   "outputs": [],
   "source": [
    "df_num = df_num.fillna(0)"
   ]
  },
  {
   "cell_type": "markdown",
   "metadata": {},
   "source": [
    "This method may not be the best way to deal with missing values, but often, it's good enough. If we set the missing feature value to zero, the respective feature is simply ignored.\n",
    "\n",
    "**NOTE:** An alternative option is to replace the missing values with the average values. For some variables, for example, the number of cylinders, the value of zero doesn't make much sense: a car cannot have zero cylinders. However, this will make our code more complex and won't have a significant impact on the results. That's why we follow a simpler approach and replace missing values with zeros.\n",
    "\n",
    "In our case, we have five features, so the formula is:\n",
    "\n",
    "$g(X_{i})=w_{0} + x_{i1}w_{1} + x_{i2}w_{2} + x_{i3}w_{3} + x_{i4}w_{4} + x_{i5}w_{5}$"
   ]
  },
  {
   "cell_type": "markdown",
   "metadata": {},
   "source": [
    "Now we need to convert this DataFrame to a NumPy array. The easiest way to do is to use its $values$ property:"
   ]
  },
  {
   "cell_type": "code",
   "execution_count": null,
   "metadata": {},
   "outputs": [],
   "source": [
    "X_train = df_num.values"
   ]
  },
  {
   "cell_type": "markdown",
   "metadata": {},
   "source": [
    "X_train is a matrix -- a two-dimensional NumPy array. We can use a input to our linear_regression function."
   ]
  },
  {
   "cell_type": "code",
   "execution_count": null,
   "metadata": {},
   "outputs": [],
   "source": [
    "w_0, w = train_linear_regression(X_train, y_train) "
   ]
  },
  {
   "cell_type": "markdown",
   "metadata": {},
   "source": [
    "We have just trained the first model! Now we can apply it to the training data to see how well it predicts:"
   ]
  },
  {
   "cell_type": "code",
   "execution_count": null,
   "metadata": {},
   "outputs": [],
   "source": [
    "y_pred = w_0 + X_train.dot(w)"
   ]
  },
  {
   "cell_type": "markdown",
   "metadata": {},
   "source": [
    "To see how good the predictions are, we can use $histplot$ -- a function from $Seaborn$ for plotting histograms that we used previously -- to plot the predicted values and compare them with the actual prices:"
   ]
  },
  {
   "cell_type": "code",
   "execution_count": null,
   "metadata": {},
   "outputs": [],
   "source": [
    "sns.histplot(y_pred, label='prediction')\n",
    "sns.histplot(y_train, label='target')\n",
    "plt.legend()"
   ]
  },
  {
   "cell_type": "markdown",
   "metadata": {},
   "source": [
    "We can see from the plot that the distribution of values we predicted looks quite different from the actual values. This result may indicate that the model is not powerful enough to capture the distribution of the target variable. This shouldn't be a suprise to us: the model we used is quite basic and includes only five very simple features."
   ]
  },
  {
   "cell_type": "markdown",
   "metadata": {},
   "source": [
    "### RMSE: Evaluating model quality\n",
    "\n",
    "Looking at plots and comparing the distributions of the actual target variable with the predictions is a good way to evaluate quality, but we cannot do this every time we change something in the model. Instead, we need to use a metric that quantifies the quality of the model. We can use many metrics to evaluate how well a regression model behaves.\n",
    "The most commonly used one is __root mean squared error__ --- RMSE for short.\n",
    "\n",
    "RMSE tells us how large the errors are that our model makes. Its computed with the following formula:\n",
    "\n",
    "$RMSE = \\sqrt{\\frac{1}{m} \\sum \\limits _{i=1} ^{m}(g(x_{i})-y_{i})^{2}}$\n",
    "\n",
    "Let's try to understand the equition:\n",
    "\n",
    "$(g(x_{i})-y_{i})^{2}$\n",
    "\n",
    "This is the difference between the prediction we make for the observation and actual target value for that observation. Then we use square of the difference, which gives a lot more weight to larger differences.\n",
    "\n",
    "For example:\n",
    "* If we predict 9.5, and actual value is 9.6, the difference is 0.1, so its aquare is 0.01, which is quite small. But if we predict 7.3, and the actual value is 10.3, the difference is 3, and the square of the difference is 9. This is SE part of RMSE.\n",
    "\n",
    "Next we have sum: $\\sum \\limits _{i=1} ^{m}$\n",
    "This summation goes over all $m$ observations and puts all the squared errors together into a single number.\n",
    "\n",
    "If we divide this sum by $m$, we get the mean squared error: $\\frac{1}{m}$\n",
    "\n",
    "Finally, we take the square root of that:\n",
    "\n",
    "$RMSE = \\sqrt{\\frac{1}{m} \\sum \\limits _{i=1} ^{m}(g(x_{i})-y_{i})^{2}}$"
   ]
  },
  {
   "cell_type": "code",
   "execution_count": null,
   "metadata": {},
   "outputs": [],
   "source": []
  },
  {
   "cell_type": "code",
   "execution_count": null,
   "metadata": {},
   "outputs": [],
   "source": []
  },
  {
   "cell_type": "code",
   "execution_count": null,
   "metadata": {},
   "outputs": [],
   "source": []
  },
  {
   "cell_type": "code",
   "execution_count": null,
   "metadata": {},
   "outputs": [],
   "source": []
  },
  {
   "cell_type": "code",
   "execution_count": null,
   "metadata": {},
   "outputs": [],
   "source": []
  },
  {
   "cell_type": "code",
   "execution_count": null,
   "metadata": {},
   "outputs": [],
   "source": []
  },
  {
   "cell_type": "markdown",
   "metadata": {},
   "source": [
    "$\\hat{Y} = g(x_{i}) \\hat{\\beta}_{0} + \\sum \\limits _{j=1} ^{3} X_{ij} w_{j} = w_{0} + x_{i1} w_{1} + x_{i2} w_{2} + x_{i3} w_{3} $"
   ]
  },
  {
   "cell_type": "code",
   "execution_count": null,
   "metadata": {},
   "outputs": [],
   "source": [
    "df_test = df.copy()\n",
    "df_test\n",
    "test_data = df_test.select_dtypes(exclude=\"object\")\n",
    "test_data = test_data[test_data.engine_hp.isnull()]\n",
    "test_data\n",
    "## 2. Drop the NULL values from the dataframe and consider as train data\n",
    "df_test.dropna(inplace=True)\n",
    "df_test.head()\n",
    "## 3. Create \"X_train\" and \"y_train\" from train data\n",
    "y_train = df_test.engine_hp\n",
    "X_train = df_test.select_dtypes(exclude=\"object\")\n",
    "X_train = X_train.drop(\"engine_hp\", axis=1)\n",
    "\n",
    "## 4. Build the Linear Regression Model\n",
    "from sklearn.linear_model import LinearRegression\n",
    "\n",
    "lr = LinearRegression()\n",
    "lr.fit(X_train, y_train)\n",
    "## 5.Create the x_test of test data\n",
    "x_test = test_data.drop(\"engine_hp\", axis=1)\n",
    "## 6. Apply the model on x_test of test data and make predictions\n",
    "x_test.dropna(inplace=True)\n",
    "x_test.isnull().sum()\n",
    "y_pred = lr.predict(x_test)\n",
    "## 7. Replace the missing values with the predicted values\n",
    "y_pred\n",
    "test_data.loc[test_data.engine_hp.isnull(), 'engine_hp'] = y_pred"
   ]
  }
 ],
 "metadata": {
  "kernelspec": {
   "display_name": "Python 3",
   "language": "python",
   "name": "python3"
  },
  "language_info": {
   "codemirror_mode": {
    "name": "ipython",
    "version": 3
   },
   "file_extension": ".py",
   "mimetype": "text/x-python",
   "name": "python",
   "nbconvert_exporter": "python",
   "pygments_lexer": "ipython3",
   "version": "3.8.3"
  }
 },
 "nbformat": 4,
 "nbformat_minor": 4
}
